{
  "cells": [
    {
      "cell_type": "markdown",
      "metadata": {
        "id": "_heX0KaRsllq"
      },
      "source": [
        "# Tutorial2: PyTorch basics"
      ]
    },
    {
      "cell_type": "markdown",
      "metadata": {
        "id": "XU4W856osllt"
      },
      "source": [
        "## Outline"
      ]
    },
    {
      "cell_type": "markdown",
      "metadata": {
        "id": "nQkvvJmdsllu"
      },
      "source": [
        "- Datasets\n",
        "- Models\n",
        "- Losses\n",
        "- Optimizers"
      ]
    },
    {
      "cell_type": "markdown",
      "metadata": {
        "id": "vmzNSjp9sllu"
      },
      "source": [
        "Official resources:\n",
        "* [Deep Learning with PyTorch: a 60 Minute Blitz](https://pytorch.org/tutorials/beginner/deep_learning_60min_blitz.html)\n",
        "* [PyTorch documentation](https://pytorch.org/docs/stable/index.html)"
      ]
    },
    {
      "cell_type": "markdown",
      "metadata": {
        "id": "cHTiIjVksllv"
      },
      "source": [
        "Here no details, mostly visualization, with linear regression."
      ]
    },
    {
      "cell_type": "markdown",
      "metadata": {
        "id": "U3ovANOWsllv"
      },
      "source": [
        "### Imports"
      ]
    },
    {
      "cell_type": "code",
      "execution_count": 1,
      "metadata": {
        "id": "gzktB96Csllw"
      },
      "outputs": [],
      "source": [
        "import numpy as np\n",
        "import torch\n",
        "import matplotlib.pyplot as plt\n",
        "from matplotlib import colors\n",
        "plt.rcParams.update({'font.size': 16})"
      ]
    },
    {
      "cell_type": "code",
      "execution_count": 2,
      "metadata": {
        "id": "fq22lsJsslly",
        "outputId": "4d5a3b8d-57cd-4581-cf3d-0d0f3ed7b59a",
        "colab": {
          "base_uri": "https://localhost:8080/"
        }
      },
      "outputs": [
        {
          "output_type": "execute_result",
          "data": {
            "text/plain": [
              "tensor([0., 0., 0., 0., 0., 0., 0., 0., 0., 0., 0., 0., 0., 0., 0., 0., 0., 0., 0., 0.])"
            ]
          },
          "metadata": {},
          "execution_count": 2
        }
      ],
      "source": [
        "x = torch.rand(20, 5)\n",
        "x\n",
        "((x.norm(dim=1) - 1).abs() < 1e-10).float()"
      ]
    },
    {
      "cell_type": "markdown",
      "metadata": {
        "id": "OfrFxCveslly"
      },
      "source": [
        "## Datasets"
      ]
    },
    {
      "cell_type": "markdown",
      "metadata": {
        "id": "TpZB94SBslly"
      },
      "source": [
        "### A raw dataset"
      ]
    },
    {
      "cell_type": "markdown",
      "metadata": {
        "id": "n0ulHBW7sllz"
      },
      "source": [
        "The data are obtained from the model \n",
        "$$\n",
        "x \\mapsto y:=Ax + b\n",
        "$$\n",
        "with $x\\in\\mathbb R^{input\\_dim}$ and $y\\in\\mathbb R^{output\\_dim}$."
      ]
    },
    {
      "cell_type": "code",
      "execution_count": 3,
      "metadata": {
        "id": "5V9VbQUJsllz"
      },
      "outputs": [],
      "source": [
        "input_dim = 1\n",
        "output_dim = 1\n",
        "\n",
        "A = 2 * np.random.rand(output_dim, input_dim) - 1\n",
        "b = 2 * np.random.rand(output_dim) - 1\n",
        "\n",
        "true_model = lambda x: A @ x + b"
      ]
    },
    {
      "cell_type": "markdown",
      "metadata": {
        "id": "9-frEa84sll0"
      },
      "source": [
        "We get a training set by randomly sampling and noisy observations\n",
        "\\begin{align*}\n",
        "&x_i \\sim U([-1, 1])\\\\\n",
        "&y_i = A x_i + b + \\nu_i\n",
        "\\end{align*}"
      ]
    },
    {
      "cell_type": "code",
      "execution_count": 4,
      "metadata": {
        "id": "pbeaVhvEsll0"
      },
      "outputs": [],
      "source": [
        "n_train = 1000\n",
        "noise_level = 0.04\n",
        "\n",
        "# Generate a random set of n_train samples\n",
        "X_train = np.random.rand(n_train, input_dim)\n",
        "y_train = np.array([true_model(x) for x in X_train])\n",
        "\n",
        "# Add some noise\n",
        "y_train += noise_level * np.random.standard_normal(size=y_train.shape)"
      ]
    },
    {
      "cell_type": "code",
      "execution_count": 5,
      "metadata": {
        "id": "XAgVakG6sll0",
        "outputId": "5e8f456a-1df7-4341-b0f2-5f28b52e7c99",
        "colab": {
          "base_uri": "https://localhost:8080/",
          "height": 291
        }
      },
      "outputs": [
        {
          "output_type": "display_data",
          "data": {
            "text/plain": [
              "<Figure size 432x288 with 1 Axes>"
            ],
            "image/png": "[encoded data removed]"
          },
          "metadata": {
            "needs_background": "light"
          }
        }
      ],
      "source": [
        "if input_dim == output_dim == 1:\n",
        "    fig = plt.figure()\n",
        "    fig.clf()\n",
        "    ax = fig.gca()\n",
        "    ax.plot(X_train, y_train, '.')\n",
        "    ax.grid(True)\n",
        "    ax.set_xlabel('X_train')\n",
        "    ax.set_ylabel('y_train')"
      ]
    },
    {
      "cell_type": "markdown",
      "metadata": {
        "id": "HNZbxJGCsll0"
      },
      "source": [
        "### PyTorch `Dataset`"
      ]
    },
    {
      "cell_type": "code",
      "execution_count": 6,
      "metadata": {
        "id": "JLJyCXU7sll1"
      },
      "outputs": [],
      "source": [
        "#%% Dataset to manage vector to vector data\n",
        "class VectorialDataset(torch.utils.data.Dataset):\n",
        "    def __init__(self, input_data, output_data):\n",
        "        super(VectorialDataset, self).__init__()\n",
        "        self.input_data = torch.tensor(input_data.astype('f'))\n",
        "        self.output_data = torch.tensor(output_data.astype('f'))\n",
        "        \n",
        "    def __len__(self):\n",
        "        return self.input_data.shape[0]\n",
        "    \n",
        "    def __getitem__(self, idx):\n",
        "        if torch.is_tensor(idx):\n",
        "            idx = idx.tolist()\n",
        "        sample = (self.input_data[idx, :], \n",
        "                  self.output_data[idx, :])  \n",
        "        return sample "
      ]
    },
    {
      "cell_type": "code",
      "execution_count": 7,
      "metadata": {
        "id": "ut2sXMyVsll1"
      },
      "outputs": [],
      "source": [
        "training_set = VectorialDataset(input_data=X_train, output_data=y_train)"
      ]
    },
    {
      "cell_type": "code",
      "execution_count": 8,
      "metadata": {
        "id": "v1DO4p5ssll1",
        "outputId": "cb100cbe-da99-46c9-8a48-f898c7ed7004",
        "colab": {
          "base_uri": "https://localhost:8080/"
        }
      },
      "outputs": [
        {
          "output_type": "execute_result",
          "data": {
            "text/plain": [
              "1000"
            ]
          },
          "metadata": {},
          "execution_count": 8
        }
      ],
      "source": [
        "len(training_set)"
      ]
    },
    {
      "cell_type": "code",
      "execution_count": 9,
      "metadata": {
        "id": "sKNSwOiKsll2",
        "outputId": "b6bc67a9-ad6b-43f7-d2ba-abeeed483026",
        "colab": {
          "base_uri": "https://localhost:8080/"
        }
      },
      "outputs": [
        {
          "output_type": "execute_result",
          "data": {
            "text/plain": [
              "(tensor([[0.5901],\n",
              "         [0.9176]]), tensor([[-0.4522],\n",
              "         [-0.6565]]))"
            ]
          },
          "metadata": {},
          "execution_count": 9
        }
      ],
      "source": [
        "training_set[10:12]"
      ]
    },
    {
      "cell_type": "markdown",
      "metadata": {
        "id": "IsLHnQ3Gsll2"
      },
      "source": [
        "Here almost useless, but think about e.g. images."
      ]
    },
    {
      "cell_type": "markdown",
      "metadata": {
        "id": "nRBTfJXcsll2"
      },
      "source": [
        "### PyTorch `DataLoader`"
      ]
    },
    {
      "cell_type": "code",
      "execution_count": 10,
      "metadata": {
        "id": "2VgIHYJ6sll2"
      },
      "outputs": [],
      "source": [
        "batch_size = 120\n",
        "train_loader = torch.utils.data.DataLoader(training_set, \n",
        "                                           batch_size=batch_size, \n",
        "                                           shuffle=True)"
      ]
    },
    {
      "cell_type": "markdown",
      "metadata": {
        "id": "mSzgv3Mrsll2"
      },
      "source": [
        "The role of `batch_size`:"
      ]
    },
    {
      "cell_type": "code",
      "execution_count": 11,
      "metadata": {
        "id": "9Xx0054Osll3",
        "outputId": "f54cfe78-ee4d-409b-b566-ddf0ff4d0b56",
        "colab": {
          "base_uri": "https://localhost:8080/"
        }
      },
      "outputs": [
        {
          "output_type": "stream",
          "name": "stdout",
          "text": [
            "Batch n.  1: input size=torch.Size([120, 1]), output size=torch.Size([120, 1])\n",
            "Batch n.  2: input size=torch.Size([120, 1]), output size=torch.Size([120, 1])\n",
            "Batch n.  3: input size=torch.Size([120, 1]), output size=torch.Size([120, 1])\n",
            "Batch n.  4: input size=torch.Size([120, 1]), output size=torch.Size([120, 1])\n",
            "Batch n.  5: input size=torch.Size([120, 1]), output size=torch.Size([120, 1])\n",
            "Batch n.  6: input size=torch.Size([120, 1]), output size=torch.Size([120, 1])\n",
            "Batch n.  7: input size=torch.Size([120, 1]), output size=torch.Size([120, 1])\n",
            "Batch n.  8: input size=torch.Size([120, 1]), output size=torch.Size([120, 1])\n",
            "Batch n.  9: input size=torch.Size([40, 1]), output size=torch.Size([40, 1])\n"
          ]
        }
      ],
      "source": [
        "for idx, batch in enumerate(train_loader):\n",
        "    print('Batch n. %2d: input size=%s, output size=%s' % (idx+1, batch[0].shape, batch[1].shape))"
      ]
    },
    {
      "cell_type": "code",
      "execution_count": 12,
      "metadata": {
        "id": "qc4FidUQsll3",
        "outputId": "7ca0bd59-2031-4699-dc5e-512c5ffd8dfc",
        "colab": {
          "base_uri": "https://localhost:8080/"
        }
      },
      "outputs": [
        {
          "output_type": "execute_result",
          "data": {
            "text/plain": [
              "960"
            ]
          },
          "metadata": {},
          "execution_count": 12
        }
      ],
      "source": [
        "8 * 120"
      ]
    },
    {
      "cell_type": "markdown",
      "metadata": {
        "id": "m44NX9UYsll3"
      },
      "source": [
        "The role of `shuffle`:"
      ]
    },
    {
      "cell_type": "code",
      "execution_count": 13,
      "metadata": {
        "id": "rrkMGc88sll3",
        "outputId": "9e07fcd1-1163-4932-df95-2f03d9c3f89d",
        "colab": {
          "base_uri": "https://localhost:8080/"
        }
      },
      "outputs": [
        {
          "output_type": "execute_result",
          "data": {
            "text/plain": [
              "array([[0.39076725, 0.90296882, 0.41016564],\n",
              "       [0.24038954, 0.09441065, 0.82888335],\n",
              "       [0.69677652, 0.38110363, 0.86934847],\n",
              "       [0.41250183, 0.50020736, 0.84428018],\n",
              "       [0.80170659, 0.04394408, 0.65096354],\n",
              "       [0.4868    , 0.50433421, 0.29658535],\n",
              "       [0.87245589, 0.15527353, 0.48451746],\n",
              "       [0.41171982, 0.47769833, 0.30070084],\n",
              "       [0.6497819 , 0.48941836, 0.24038954],\n",
              "       [0.48941836, 0.44411916, 0.28687215],\n",
              "       [0.59010808, 0.34288007, 0.86455154],\n",
              "       [0.91762836, 0.17561775, 0.35006714],\n",
              "       [0.2388449 , 0.6130386 , 0.12028078],\n",
              "       [0.21389099, 0.99348414, 0.89487833],\n",
              "       [0.54803168, 0.56178361, 0.74163359],\n",
              "       [0.14287411, 0.95232564, 0.20544268],\n",
              "       [0.22404654, 0.66564304, 0.16621354],\n",
              "       [0.28453961, 0.17174824, 0.74569499],\n",
              "       [0.99009251, 0.07379508, 0.58903259],\n",
              "       [0.14574012, 0.87893367, 0.54000002],\n",
              "       [0.19821511, 0.03758427, 0.50618821],\n",
              "       [0.29504056, 0.07988994, 0.20982668],\n",
              "       [0.92045037, 0.82635432, 0.48597902],\n",
              "       [0.13261374, 0.49546245, 0.45619017],\n",
              "       [0.00844997, 0.50618821, 0.69285822],\n",
              "       [0.4653508 , 0.55101323, 0.31614855],\n",
              "       [0.57603291, 0.73530608, 0.8533327 ],\n",
              "       [0.33799212, 0.30184376, 0.08565848],\n",
              "       [0.42683993, 0.00395971, 0.39535218],\n",
              "       [0.26152468, 0.0013852 , 0.04328803],\n",
              "       [0.61231536, 0.26851529, 0.51623994],\n",
              "       [0.31362026, 0.77615017, 0.34622237],\n",
              "       [0.24203101, 0.03728683, 0.38948768],\n",
              "       [0.59103991, 0.41584438, 0.15955195],\n",
              "       [0.4438576 , 0.38420776, 0.83996248],\n",
              "       [0.41601714, 0.15795276, 0.83111155],\n",
              "       [0.00395971, 0.75338876, 0.89344931],\n",
              "       [0.04786155, 0.86905444, 0.59177756],\n",
              "       [0.18856913, 0.72178364, 0.27580446],\n",
              "       [0.05862905, 0.38425574, 0.99654216],\n",
              "       [0.77646032, 0.50482631, 0.59928131],\n",
              "       [0.30319652, 0.97747034, 0.45831037],\n",
              "       [0.16024191, 0.27337196, 0.39111918],\n",
              "       [0.0529303 , 0.43741697, 0.2457775 ],\n",
              "       [0.29599805, 0.52732354, 0.50952059],\n",
              "       [0.51163641, 0.18308668, 0.68770963],\n",
              "       [0.31257385, 0.31004658, 0.91292721],\n",
              "       [0.01356972, 0.15280087, 0.27330932],\n",
              "       [0.99408022, 0.45344806, 0.3209146 ],\n",
              "       [0.83132371, 0.16698065, 0.62202662],\n",
              "       [0.1112088 , 0.97624731, 0.47173703],\n",
              "       [0.64544794, 0.0578911 , 0.20421971],\n",
              "       [0.20425573, 0.90012258, 0.58845705],\n",
              "       [0.44008968, 0.5141868 , 0.88682628],\n",
              "       [0.39111918, 0.11979807, 0.30184376],\n",
              "       [0.56853825, 0.76671708, 0.34077653],\n",
              "       [0.77682544, 0.32641318, 0.626279  ],\n",
              "       [0.63645147, 0.64978188, 0.97344929],\n",
              "       [0.68302557, 0.08963852, 0.51594353],\n",
              "       [0.19130415, 0.57063591, 0.90193534],\n",
              "       [0.98444923, 0.53670096, 0.60726225],\n",
              "       [0.28608858, 0.31362027, 0.99208504],\n",
              "       [0.7141978 , 0.23198262, 0.10595749],\n",
              "       [0.83412214, 0.72827399, 0.97597939],\n",
              "       [0.69355908, 0.65436381, 0.22163886],\n",
              "       [0.47771616, 0.92351335, 0.33648598],\n",
              "       [0.41022242, 0.88660848, 0.43172351],\n",
              "       [0.01491379, 0.42332521, 0.03694516],\n",
              "       [0.20381139, 0.01223907, 0.39245263],\n",
              "       [0.915328  , 0.48451746, 0.00824835],\n",
              "       [0.96714793, 0.13411613, 0.44260961],\n",
              "       [0.43596903, 0.95486128, 0.50899214],\n",
              "       [0.46278952, 0.09559276, 0.36758688],\n",
              "       [0.73983132, 0.74163359, 0.24716885],\n",
              "       [0.30070083, 0.66112149, 0.16132601],\n",
              "       [0.23446143, 0.40356684, 0.79815966],\n",
              "       [0.48529134, 0.56273448, 0.997657  ],\n",
              "       [0.95028422, 0.13264282, 0.00274048],\n",
              "       [0.4116265 , 0.36996749, 0.02046813],\n",
              "       [0.50016254, 0.52780181, 0.25477058],\n",
              "       [0.52945344, 0.29599807, 0.73726183],\n",
              "       [0.16132601, 0.97038126, 0.80958307],\n",
              "       [0.28273958, 0.47524884, 0.51163644],\n",
              "       [0.23198262, 0.54022849, 0.38474864],\n",
              "       [0.97228099, 0.99449635, 0.52079034],\n",
              "       [0.49991655, 0.15221171, 0.55562699],\n",
              "       [0.4553492 , 0.57021606, 0.6283288 ],\n",
              "       [0.9752268 , 0.08560377, 0.7935518 ],\n",
              "       [0.15463028, 0.04328803, 0.43741697],\n",
              "       [0.10966164, 0.7118513 , 0.08963852],\n",
              "       [0.63559639, 0.19891462, 0.3192724 ],\n",
              "       [0.09441065, 0.66433108, 0.72920638],\n",
              "       [0.30124419, 0.2711263 , 0.36698815],\n",
              "       [0.58299661, 0.13084561, 0.28608859],\n",
              "       [0.29062775, 0.48097935, 0.73530608],\n",
              "       [0.75855021, 0.50064939, 0.51020551],\n",
              "       [0.2704299 , 0.32424256, 0.13961239],\n",
              "       [0.42913575, 0.80775446, 0.80568755],\n",
              "       [0.05735233, 0.93921316, 0.35281667],\n",
              "       [0.77252639, 0.26321906, 0.75261194],\n",
              "       [0.21983085, 0.89482421, 0.38754848],\n",
              "       [0.69285824, 0.93412262, 0.14312266],\n",
              "       [0.78971701, 0.01491379, 0.63497508],\n",
              "       [0.84556155, 0.19130415, 0.27577287],\n",
              "       [0.52732355, 0.7985549 , 0.20045637],\n",
              "       [0.68871222, 0.1288383 , 0.55101323],\n",
              "       [0.14000615, 0.2483328 , 0.88050443],\n",
              "       [0.47769833, 0.99837989, 0.61014789],\n",
              "       [0.65436381, 0.27119976, 0.35398838],\n",
              "       [0.89487835, 0.66000664, 0.20770378],\n",
              "       [0.68770964, 0.41162652, 0.4009403 ],\n",
              "       [0.53194545, 0.95757121, 0.77615017],\n",
              "       [0.37253293, 0.94634211, 0.98484647],\n",
              "       [0.17376171, 0.52035749, 0.30784434],\n",
              "       [0.13046483, 0.01167872, 0.69651997],\n",
              "       [0.29984538, 0.30070084, 0.65597099],\n",
              "       [0.51619466, 0.25477058, 0.53426993],\n",
              "       [0.5095206 , 0.79891735, 0.83132374],\n",
              "       [0.27577287, 0.23369114, 0.27337196],\n",
              "       [0.44948737, 0.05735233, 0.14248706]])"
            ]
          },
          "metadata": {},
          "execution_count": 13
        }
      ],
      "source": [
        "first_batch = []\n",
        "\n",
        "for epoch in range(2):\n",
        "    for idx, batch in enumerate(train_loader):\n",
        "        if idx == 0:\n",
        "            first_batch.append(batch)\n",
        "        \n",
        "np.c_[X_train[:batch_size], first_batch[0][0].numpy(), first_batch[1][0].numpy()]"
      ]
    },
    {
      "cell_type": "markdown",
      "metadata": {
        "id": "oIr7JZ0Ysll4"
      },
      "source": [
        "## Models"
      ]
    },
    {
      "cell_type": "markdown",
      "metadata": {
        "id": "3jlurcemsll4"
      },
      "source": [
        "We implement a linear model $$x \\mapsto model(x):=A x + b$$ \n",
        "\n",
        "with $A\\in \\mathbb{R}^{input\\_dim\\times output\\_dim}$, $b\\in\\mathbb{R}^{output\\_dim}$."
      ]
    },
    {
      "cell_type": "code",
      "execution_count": 14,
      "metadata": {
        "id": "KO0CFgaSsll4"
      },
      "outputs": [],
      "source": [
        "import torch.nn as nn\n",
        "import torch\n",
        "\n",
        "#%% Linear layer\n",
        "class LinearModel(nn.Module):\n",
        "    def __init__(self, input_dim, output_dim):\n",
        "        super(LinearModel, self).__init__()\n",
        "\n",
        "        self.input_dim = input_dim\n",
        "        self.output_dim = output_dim\n",
        "\n",
        "        self.linear = nn.Linear(self.input_dim, self.output_dim, bias=True)\n",
        "\n",
        "    def forward(self, x):\n",
        "        out = self.linear(x)\n",
        "        return out\n",
        "    \n",
        "    def reset(self):\n",
        "        self.linear.reset_parameters()"
      ]
    },
    {
      "cell_type": "code",
      "execution_count": 15,
      "metadata": {
        "id": "w-XFQyR3sll4"
      },
      "outputs": [],
      "source": [
        "model = LinearModel(input_dim, output_dim)"
      ]
    },
    {
      "cell_type": "markdown",
      "metadata": {
        "id": "eKeoOAumsll4"
      },
      "source": [
        "### Model inspection"
      ]
    },
    {
      "cell_type": "code",
      "execution_count": 16,
      "metadata": {
        "id": "WrXTYYsBsll4",
        "outputId": "b2bb1549-7f28-4810-9cc9-71d1cd5e206c",
        "colab": {
          "base_uri": "https://localhost:8080/"
        }
      },
      "outputs": [
        {
          "output_type": "stream",
          "name": "stdout",
          "text": [
            "LinearModel(\n",
            "  (linear): Linear(in_features=1, out_features=1, bias=True)\n",
            ")\n"
          ]
        }
      ],
      "source": [
        "print(model)"
      ]
    },
    {
      "cell_type": "markdown",
      "metadata": {
        "id": "nIY52hFgsll5"
      },
      "source": [
        "See [pytorch.org/docs/stable/nn.html](https://pytorch.org/docs/stable/nn.html) for many other layers."
      ]
    },
    {
      "cell_type": "code",
      "execution_count": 17,
      "metadata": {
        "id": "jFl3qby-sll5",
        "outputId": "5addabbd-3391-4fad-ac08-aff7a7eaf626",
        "colab": {
          "base_uri": "https://localhost:8080/"
        }
      },
      "outputs": [
        {
          "output_type": "execute_result",
          "data": {
            "text/plain": [
              "[Parameter containing:\n",
              " tensor([[0.8729]], requires_grad=True), Parameter containing:\n",
              " tensor([-0.7368], requires_grad=True)]"
            ]
          },
          "metadata": {},
          "execution_count": 17
        }
      ],
      "source": [
        "list(model.parameters())"
      ]
    },
    {
      "cell_type": "code",
      "execution_count": 18,
      "metadata": {
        "id": "POvqaGfrsll5",
        "outputId": "96b71ea8-1102-4d83-e608-cd904834689d",
        "colab": {
          "base_uri": "https://localhost:8080/"
        }
      },
      "outputs": [
        {
          "output_type": "execute_result",
          "data": {
            "text/plain": [
              "Parameter containing:\n",
              "tensor([[0.8729]], requires_grad=True)"
            ]
          },
          "metadata": {},
          "execution_count": 18
        }
      ],
      "source": [
        "model.linear.weight"
      ]
    },
    {
      "cell_type": "code",
      "execution_count": 19,
      "metadata": {
        "id": "haseft0tsll5",
        "outputId": "a874314d-0f89-4d96-cbe2-a6165c8358c5",
        "colab": {
          "base_uri": "https://localhost:8080/"
        }
      },
      "outputs": [
        {
          "output_type": "execute_result",
          "data": {
            "text/plain": [
              "Parameter containing:\n",
              "tensor([-0.7368], requires_grad=True)"
            ]
          },
          "metadata": {},
          "execution_count": 19
        }
      ],
      "source": [
        "model.linear.bias"
      ]
    },
    {
      "cell_type": "markdown",
      "metadata": {
        "id": "28rfG4MAsll6"
      },
      "source": [
        "### The `forward` method"
      ]
    },
    {
      "cell_type": "code",
      "execution_count": 20,
      "metadata": {
        "id": "aT2P3t14sll6",
        "outputId": "7c5711b1-b55c-4d79-8265-a345cc43e89f",
        "colab": {
          "base_uri": "https://localhost:8080/"
        }
      },
      "outputs": [
        {
          "output_type": "execute_result",
          "data": {
            "text/plain": [
              "tensor([[-1.3975],\n",
              "        [-1.2137],\n",
              "        [-1.6766],\n",
              "        [ 0.9639],\n",
              "        [-0.5128]], grad_fn=<AddmmBackward0>)"
            ]
          },
          "metadata": {},
          "execution_count": 20
        }
      ],
      "source": [
        "x = torch.randn(5, input_dim)\n",
        "model.forward(x)"
      ]
    },
    {
      "cell_type": "code",
      "execution_count": 21,
      "metadata": {
        "id": "iMWMHE8Osll6",
        "outputId": "eb70f874-ed2b-4bcb-80d9-342c7c4f7e75",
        "colab": {
          "base_uri": "https://localhost:8080/"
        }
      },
      "outputs": [
        {
          "output_type": "execute_result",
          "data": {
            "text/plain": [
              "[tensor([-1.3975], grad_fn=<AddBackward0>),\n",
              " tensor([-1.2137], grad_fn=<AddBackward0>),\n",
              " tensor([-1.6766], grad_fn=<AddBackward0>),\n",
              " tensor([0.9639], grad_fn=<AddBackward0>),\n",
              " tensor([-0.5128], grad_fn=<AddBackward0>)]"
            ]
          },
          "metadata": {},
          "execution_count": 21
        }
      ],
      "source": [
        "[model.linear.weight @ xx + model.linear.bias for xx in x]"
      ]
    },
    {
      "cell_type": "code",
      "execution_count": 22,
      "metadata": {
        "id": "g8YXpZ1esll6",
        "outputId": "506f7239-7313-4566-c0d5-647c842066d5",
        "colab": {
          "base_uri": "https://localhost:8080/",
          "height": 291
        }
      },
      "outputs": [
        {
          "output_type": "display_data",
          "data": {
            "text/plain": [
              "<Figure size 432x288 with 1 Axes>"
            ],
            "image/png": "[encoded data removed]"
          },
          "metadata": {
            "needs_background": "light"
          }
        }
      ],
      "source": [
        "if input_dim == output_dim == 1:\n",
        "    fig = plt.figure()\n",
        "    fig.clf()\n",
        "    ax = fig.gca()\n",
        "    ax.plot(training_set.input_data, training_set.output_data, '.')\n",
        "    ax.plot(training_set.input_data, model.forward(training_set.input_data).detach().numpy(), '.')\n",
        "    ax.grid(True)\n",
        "    ax.set_xlabel('X_train')\n",
        "    ax.legend(['y_train', 'model(X_train)'])    "
      ]
    },
    {
      "cell_type": "markdown",
      "metadata": {
        "id": "23MLaQjqsll6"
      },
      "source": [
        "## Losses"
      ]
    },
    {
      "cell_type": "markdown",
      "metadata": {
        "id": "IFsOIPhjsll7"
      },
      "source": [
        "### The MSE loss"
      ]
    },
    {
      "cell_type": "markdown",
      "metadata": {
        "id": "fZfrYphasll7"
      },
      "source": [
        "The MSE loss is\n",
        "$$\n",
        "L(y, y') = \\|y-y'\\|_2^2\n",
        "$$"
      ]
    },
    {
      "cell_type": "code",
      "execution_count": 26,
      "metadata": {
        "id": "rFP0Awsfsll7"
      },
      "outputs": [],
      "source": [
        "import torch.nn as nn\n",
        "loss_fun = nn.MSELoss(reduction='mean')"
      ]
    },
    {
      "cell_type": "markdown",
      "metadata": {
        "id": "0uQM0kjtsll7"
      },
      "source": [
        "More at [pytorch.org/docs/stable/nn.html#loss-functions](https://pytorch.org/docs/stable/nn.html#loss-functions)"
      ]
    },
    {
      "cell_type": "code",
      "execution_count": 27,
      "metadata": {
        "id": "Ot9qLPGGsll7",
        "outputId": "11b5bfdd-785c-41f5-f36a-15dfccf6b167",
        "colab": {
          "base_uri": "https://localhost:8080/"
        }
      },
      "outputs": [
        {
          "output_type": "execute_result",
          "data": {
            "text/plain": [
              "tensor(2.)"
            ]
          },
          "metadata": {},
          "execution_count": 27
        }
      ],
      "source": [
        "x = torch.tensor(np.array([1, 2, 1]).astype('f'))\n",
        "z = torch.tensor(np.array([0, 0, 0]).astype('f'))\n",
        "loss_fun(x, z)"
      ]
    },
    {
      "cell_type": "markdown",
      "metadata": {
        "id": "24c3wG24sll7"
      },
      "source": [
        "### Giving a score to the model (parameters) given the training set"
      ]
    },
    {
      "cell_type": "markdown",
      "metadata": {
        "id": "p17v5LM6sll8"
      },
      "source": [
        "The loss for one data pair $(x_i, y_i)$ is \n",
        "$$\n",
        "L(model(x_i), y_i)\n",
        "$$\n",
        "\n",
        "The cumulative (average) loss on the training set is \n",
        "$$\n",
        "L(X_{train}, y_{train}):=\\frac{1}{n_{train}} \\sum_{i=1}^{n_{train}} L(model(x_i), y_i)\n",
        "$$"
      ]
    },
    {
      "cell_type": "code",
      "execution_count": 28,
      "metadata": {
        "id": "Mly0kaIpsll8",
        "outputId": "3c914037-cceb-4871-cecf-4030b518db43",
        "colab": {
          "base_uri": "https://localhost:8080/",
          "height": 513
        }
      },
      "outputs": [
        {
          "output_type": "display_data",
          "data": {
            "text/plain": [
              "<Figure size 720x576 with 2 Axes>"
            ],
            "image/png": "[encoded data removed]"
          },
          "metadata": {
            "needs_background": "light"
          }
        }
      ],
      "source": [
        "if input_dim == output_dim == 1:\n",
        "\n",
        "    state_dict = model.state_dict()\n",
        "\n",
        "    ww, bb = np.meshgrid(np.linspace(-2, 2, 30), np.linspace(-2, 2, 30))\n",
        "\n",
        "    loss_values = 0 * ww\n",
        "    for i in range(ww.shape[0]):\n",
        "        for j in range(ww.shape[1]):\n",
        "            state_dict['linear.weight'] = torch.tensor([[ww[i, j]]])\n",
        "            state_dict['linear.bias'] = torch.tensor([bb[i, j]])\n",
        "            model.load_state_dict(state_dict)\n",
        "            loss_values[i, j] = loss_fun(model.forward(training_set.input_data),  training_set.output_data)\n",
        "\n",
        "    fig = plt.figure(figsize=(10, 8))\n",
        "    fig.clf()\n",
        "    ax = fig.gca()\n",
        "    levels = np.logspace(np.log(np.min(loss_values)), np.log(np.max(loss_values)), 20)\n",
        "    c=ax.contourf(ww, bb, loss_values, levels=levels, norm=colors.LogNorm())\n",
        "    plt.colorbar(c)\n",
        "    ax.plot(A[0], b, 'r*', markersize=10)\n",
        "    ax.set_ylabel('bias')\n",
        "    ax.set_xlabel('weight')\n",
        "    ax.legend(['(A, b)'])\n",
        "    \n",
        "    ax.grid(True)    "
      ]
    },
    {
      "cell_type": "markdown",
      "metadata": {
        "id": "m0ry9kHGsll8"
      },
      "source": [
        "## Optimization"
      ]
    },
    {
      "cell_type": "markdown",
      "metadata": {
        "id": "dDnTy5WYsll8"
      },
      "source": [
        "Goal: minimize the loss given the data:\n",
        "$$\n",
        "\\min\\limits_{par \\in model} L(X_{train}, y_{train})\n",
        "=\\min\\limits_{par \\in model} \\frac{1}{n_{train}} \\sum_{i=1}^{n_{train}} L(x_i, model(x_i))\n",
        "$$\n",
        "\n",
        "In this case $par =\\{A, b\\}$."
      ]
    },
    {
      "cell_type": "markdown",
      "metadata": {
        "id": "SzbEz3hRsll8"
      },
      "source": [
        "Iterative gradient based optimization:\n",
        "\\begin{align*}\n",
        "par^{(0)} &= par_0\\\\\n",
        "par^{(k+1)} &=  par^{(k)} - \\eta^{(k)} \\nabla_{par} L(X_{train}, y_{train})\n",
        "\\end{align*}    \n",
        "with learning rate $\\eta^{(k)}$."
      ]
    },
    {
      "cell_type": "markdown",
      "metadata": {
        "id": "zCUIJueZsll8"
      },
      "source": [
        "### Gradients"
      ]
    },
    {
      "cell_type": "markdown",
      "metadata": {
        "id": "6ddi6SAqsll9"
      },
      "source": [
        "The model is \n",
        "$$\n",
        "model(x) = A x + b\n",
        "$$\n",
        "\n",
        "With $input\\_dim = output\\_dim = 1$ we have $A:=a\\in\\mathbb{R},\\ b\\in\\mathbb{R}$. \n",
        "\n",
        "For a data pair $(x, y)$ the loss is\n",
        "\\begin{align*}\n",
        "L(x, y) \n",
        "&= \\|model(x)-y\\|_2^2\\\\ \n",
        "&= (model(x)-y)^2\\\\\n",
        "&= (a x + b - y)^2\\\\\n",
        "&= a^2 x^2 + 2 a b x - 2 a xy + b^2 -2 b y + y^2.\n",
        "\\end{align*}\n",
        "\n",
        "We can compute\n",
        "\\begin{align*}\n",
        "\\nabla_a L(x, y) \n",
        "&= 2 a x^2 + 2 b x - 2 xy\n",
        "=2 x (a x + b - y)\\\\\n",
        "\\nabla_b L(x, y)\n",
        "&= 2 a x + 2 b - 2 y\n",
        "= 2 (ax + b - y).\n",
        "\\end{align*}\n"
      ]
    },
    {
      "cell_type": "code",
      "execution_count": 29,
      "metadata": {
        "id": "sZc6sLjjsll9"
      },
      "outputs": [],
      "source": [
        "x = torch.randn(1, input_dim)\n",
        "y =  torch.randn(1, output_dim)\n",
        "\n",
        "model.zero_grad()\n",
        "loss = loss_fun(model.forward(x),  y)\n",
        "loss.backward()"
      ]
    },
    {
      "cell_type": "code",
      "execution_count": 30,
      "metadata": {
        "id": "wUOS8aAHsll9",
        "outputId": "c282445e-bf4b-4235-9847-3a06ef3aaaaa",
        "colab": {
          "base_uri": "https://localhost:8080/"
        }
      },
      "outputs": [
        {
          "output_type": "stream",
          "name": "stdout",
          "text": [
            "tensor([[-0.7297]])\n",
            "tensor([[-0.7297]], grad_fn=<MulBackward0>)\n",
            "tensor([8.8924])\n",
            "tensor([[8.8924]], grad_fn=<MulBackward0>)\n"
          ]
        }
      ],
      "source": [
        "if input_dim == output_dim == 1:\n",
        "    print(model.linear.weight.grad)\n",
        "    print(2 * x * (model.linear.weight * x + model.linear.bias - y))\n",
        "    \n",
        "    print(model.linear.bias.grad)\n",
        "    print(2 * (model.linear.weight * x + model.linear.bias - y))"
      ]
    },
    {
      "cell_type": "markdown",
      "metadata": {
        "id": "DgR0Ht4Wsll9"
      },
      "source": [
        "### Handmade optimization"
      ]
    },
    {
      "cell_type": "code",
      "execution_count": 31,
      "metadata": {
        "id": "hdIU6uEvsll9"
      },
      "outputs": [],
      "source": [
        "if input_dim == output_dim == 1:\n",
        "\n",
        "    num_iter = 200\n",
        "    lr = 0.5 # 0.01\n",
        "\n",
        "    train_hist = {}\n",
        "    train_hist['weight'] = []\n",
        "    train_hist['bias'] = []\n",
        "\n",
        "    model.reset()\n",
        "    state_dict = model.state_dict()\n",
        "\n",
        "    for _ in range(num_iter):\n",
        "\n",
        "        model.zero_grad()\n",
        "        loss = loss_fun(model.forward(training_set.input_data), training_set.output_data)\n",
        "        loss.backward()\n",
        "\n",
        "        w = model.linear.weight.item()\n",
        "        b = model.linear.bias.item()\n",
        "\n",
        "        dw = model.linear.weight.grad.item()\n",
        "        db = model.linear.bias.grad.item()\n",
        "\n",
        "        state_dict['linear.weight'] += torch.tensor([-lr * dw])\n",
        "        state_dict['linear.bias'] += torch.tensor([-lr * db])\n",
        "        model.load_state_dict(state_dict)\n",
        "\n",
        "        train_hist['weight'].append(w)\n",
        "        train_hist['bias'].append(b)\n",
        "\n",
        "    for label in train_hist:\n",
        "        train_hist[label] = np.array(train_hist[label])"
      ]
    },
    {
      "cell_type": "code",
      "execution_count": 32,
      "metadata": {
        "id": "9VH3KTO8sll-",
        "outputId": "dc0de67e-1786-4d60-bf29-532dad5f0594",
        "colab": {
          "base_uri": "https://localhost:8080/",
          "height": 513
        }
      },
      "outputs": [
        {
          "output_type": "display_data",
          "data": {
            "text/plain": [
              "<Figure size 576x576 with 1 Axes>"
            ],
            "image/png": "[encoded data removed]"
          },
          "metadata": {
            "needs_background": "light"
          }
        }
      ],
      "source": [
        "if input_dim == output_dim == 1:\n",
        "    fig = plt.figure(figsize=(8, 8))\n",
        "    fig.clf()\n",
        "    ax = fig.gca()\n",
        "    levels = np.logspace(np.log(np.min(loss_values)), np.log(np.max(loss_values)), 20)\n",
        "    ax.contourf(ww, bb, loss_values, levels=levels, norm=colors.LogNorm())\n",
        "    ax.set_xlabel('weight')\n",
        "    ax.set_ylabel('bias')\n",
        "    ax.grid(True)\n",
        "    ax.set_xlim(-2, 2) \n",
        "    ax.set_ylim(-2, 2) \n",
        "    \n",
        "    ax.plot(train_hist['weight'], train_hist['bias'], '.-b')\n",
        "    ax.plot(A[0], b, 'r*', markersize=10)\n",
        "\n",
        "    #ax.legend(['optim', '(A, b)'])"
      ]
    },
    {
      "cell_type": "markdown",
      "metadata": {
        "id": "E2_bpc3_sll-"
      },
      "source": [
        "### Stochastic GD"
      ]
    },
    {
      "cell_type": "markdown",
      "metadata": {
        "id": "TZo0bsSLsll-"
      },
      "source": [
        "* Avoid loading the full training set\n",
        "* Avoid evaluating the model on the full training set"
      ]
    },
    {
      "cell_type": "markdown",
      "metadata": {
        "id": "73IDnJWOsll-"
      },
      "source": [
        "At every step, compute the loss on a batch of data $(X^{(k)}, y^{(k)})\\sim (X_{train}, y_{train})$: \n",
        "\n",
        "\\begin{align*}\n",
        "L(X^{(k)}, y^{(k)}) := \\sum_{(x, y) \\in (X^{(k)}, y^{(k)})} L(x, model(x)).\n",
        "\\end{align*}    \n",
        "\n",
        "and then update with this approximated gradient:\n",
        "\\begin{align*}\n",
        "par^{(k+1)} &=  par^{(k)} - \\eta^{(k)} \\nabla_{par} L(X^{(k)}, y^{(k)}). \n",
        "\\end{align*}    "
      ]
    },
    {
      "cell_type": "markdown",
      "metadata": {
        "id": "whqpvopksll-"
      },
      "source": [
        "### PyTorch `optim`"
      ]
    },
    {
      "cell_type": "code",
      "execution_count": 33,
      "metadata": {
        "id": "66gSuVZrsll_"
      },
      "outputs": [],
      "source": [
        "lr = 0.1\n",
        "weight_decay = 5e-4\n",
        "optimizer = torch.optim.Adam(model.parameters(), lr=lr, weight_decay=weight_decay)"
      ]
    },
    {
      "cell_type": "markdown",
      "metadata": {
        "id": "RBbNpk0wsll_"
      },
      "source": [
        "More at [pytorch.org/docs/stable/optim.html](https://pytorch.org/docs/stable/optim.html)."
      ]
    },
    {
      "cell_type": "code",
      "execution_count": 34,
      "metadata": {
        "id": "F3D8mMPIsll_"
      },
      "outputs": [],
      "source": [
        "n_epochs = 100"
      ]
    },
    {
      "cell_type": "code",
      "execution_count": 35,
      "metadata": {
        "id": "lHx44NqWslmA",
        "outputId": "ad6241f3-1f10-452b-c90f-b215b4c3952d",
        "colab": {
          "base_uri": "https://localhost:8080/"
        }
      },
      "outputs": [
        {
          "output_type": "stream",
          "name": "stdout",
          "text": [
            "[Epoch    1/ 100] [Batch    1/   9] Loss:  6.98e-01\n",
            "[Epoch    1/ 100] [Batch    2/   9] Loss:  4.58e-01\n",
            "[Epoch    1/ 100] [Batch    3/   9] Loss:  2.97e-01\n",
            "[Epoch    1/ 100] [Batch    4/   9] Loss:  1.45e-01\n",
            "[Epoch    1/ 100] [Batch    5/   9] Loss:  6.29e-02\n",
            "[Epoch    1/ 100] [Batch    6/   9] Loss:  1.44e-02\n",
            "[Epoch    1/ 100] [Batch    7/   9] Loss:  3.70e-03\n",
            "[Epoch    1/ 100] [Batch    8/   9] Loss:  1.90e-02\n",
            "[Epoch    1/ 100] [Batch    9/   9] Loss:  6.12e-02\n",
            "[Epoch    2/ 100] [Batch    1/   9] Loss:  7.40e-02\n",
            "[Epoch    2/ 100] [Batch    2/   9] Loss:  9.44e-02\n",
            "[Epoch    2/ 100] [Batch    3/   9] Loss:  9.64e-02\n",
            "[Epoch    2/ 100] [Batch    4/   9] Loss:  1.02e-01\n",
            "[Epoch    2/ 100] [Batch    5/   9] Loss:  9.62e-02\n",
            "[Epoch    2/ 100] [Batch    6/   9] Loss:  7.19e-02\n",
            "[Epoch    2/ 100] [Batch    7/   9] Loss:  5.28e-02\n",
            "[Epoch    2/ 100] [Batch    8/   9] Loss:  3.15e-02\n",
            "[Epoch    2/ 100] [Batch    9/   9] Loss:  1.30e-02\n",
            "[Epoch    3/ 100] [Batch    1/   9] Loss:  8.43e-03\n",
            "[Epoch    3/ 100] [Batch    2/   9] Loss:  2.48e-03\n",
            "[Epoch    3/ 100] [Batch    3/   9] Loss:  3.63e-03\n",
            "[Epoch    3/ 100] [Batch    4/   9] Loss:  5.81e-03\n",
            "[Epoch    3/ 100] [Batch    5/   9] Loss:  1.26e-02\n",
            "[Epoch    3/ 100] [Batch    6/   9] Loss:  1.78e-02\n",
            "[Epoch    3/ 100] [Batch    7/   9] Loss:  2.15e-02\n",
            "[Epoch    3/ 100] [Batch    8/   9] Loss:  2.27e-02\n",
            "[Epoch    3/ 100] [Batch    9/   9] Loss:  2.70e-02\n",
            "[Epoch    4/ 100] [Batch    1/   9] Loss:  2.12e-02\n",
            "[Epoch    4/ 100] [Batch    2/   9] Loss:  1.63e-02\n",
            "[Epoch    4/ 100] [Batch    3/   9] Loss:  1.22e-02\n",
            "[Epoch    4/ 100] [Batch    4/   9] Loss:  7.87e-03\n",
            "[Epoch    4/ 100] [Batch    5/   9] Loss:  4.11e-03\n",
            "[Epoch    4/ 100] [Batch    6/   9] Loss:  2.20e-03\n",
            "[Epoch    4/ 100] [Batch    7/   9] Loss:  1.76e-03\n",
            "[Epoch    4/ 100] [Batch    8/   9] Loss:  2.65e-03\n",
            "[Epoch    4/ 100] [Batch    9/   9] Loss:  3.30e-03\n",
            "[Epoch    5/ 100] [Batch    1/   9] Loss:  5.90e-03\n",
            "[Epoch    5/ 100] [Batch    2/   9] Loss:  7.35e-03\n",
            "[Epoch    5/ 100] [Batch    3/   9] Loss:  9.64e-03\n",
            "[Epoch    5/ 100] [Batch    4/   9] Loss:  7.14e-03\n",
            "[Epoch    5/ 100] [Batch    5/   9] Loss:  6.23e-03\n",
            "[Epoch    5/ 100] [Batch    6/   9] Loss:  4.97e-03\n",
            "[Epoch    5/ 100] [Batch    7/   9] Loss:  3.89e-03\n",
            "[Epoch    5/ 100] [Batch    8/   9] Loss:  2.95e-03\n",
            "[Epoch    5/ 100] [Batch    9/   9] Loss:  1.96e-03\n",
            "[Epoch    6/ 100] [Batch    1/   9] Loss:  1.74e-03\n",
            "[Epoch    6/ 100] [Batch    2/   9] Loss:  1.83e-03\n",
            "[Epoch    6/ 100] [Batch    3/   9] Loss:  1.70e-03\n",
            "[Epoch    6/ 100] [Batch    4/   9] Loss:  2.33e-03\n",
            "[Epoch    6/ 100] [Batch    5/   9] Loss:  3.45e-03\n",
            "[Epoch    6/ 100] [Batch    6/   9] Loss:  3.40e-03\n",
            "[Epoch    6/ 100] [Batch    7/   9] Loss:  3.62e-03\n",
            "[Epoch    6/ 100] [Batch    8/   9] Loss:  3.25e-03\n",
            "[Epoch    6/ 100] [Batch    9/   9] Loss:  2.73e-03\n",
            "[Epoch    7/ 100] [Batch    1/   9] Loss:  2.26e-03\n",
            "[Epoch    7/ 100] [Batch    2/   9] Loss:  2.15e-03\n",
            "[Epoch    7/ 100] [Batch    3/   9] Loss:  1.78e-03\n",
            "[Epoch    7/ 100] [Batch    4/   9] Loss:  1.60e-03\n",
            "[Epoch    7/ 100] [Batch    5/   9] Loss:  1.50e-03\n",
            "[Epoch    7/ 100] [Batch    6/   9] Loss:  1.64e-03\n",
            "[Epoch    7/ 100] [Batch    7/   9] Loss:  1.96e-03\n",
            "[Epoch    7/ 100] [Batch    8/   9] Loss:  1.83e-03\n",
            "[Epoch    7/ 100] [Batch    9/   9] Loss:  2.59e-03\n",
            "[Epoch    8/ 100] [Batch    1/   9] Loss:  1.61e-03\n",
            "[Epoch    8/ 100] [Batch    2/   9] Loss:  2.40e-03\n",
            "[Epoch    8/ 100] [Batch    3/   9] Loss:  1.69e-03\n",
            "[Epoch    8/ 100] [Batch    4/   9] Loss:  1.57e-03\n",
            "[Epoch    8/ 100] [Batch    5/   9] Loss:  1.39e-03\n",
            "[Epoch    8/ 100] [Batch    6/   9] Loss:  1.68e-03\n",
            "[Epoch    8/ 100] [Batch    7/   9] Loss:  1.61e-03\n",
            "[Epoch    8/ 100] [Batch    8/   9] Loss:  1.76e-03\n",
            "[Epoch    8/ 100] [Batch    9/   9] Loss:  1.64e-03\n",
            "[Epoch    9/ 100] [Batch    1/   9] Loss:  1.65e-03\n",
            "[Epoch    9/ 100] [Batch    2/   9] Loss:  1.81e-03\n",
            "[Epoch    9/ 100] [Batch    3/   9] Loss:  1.70e-03\n",
            "[Epoch    9/ 100] [Batch    4/   9] Loss:  1.89e-03\n",
            "[Epoch    9/ 100] [Batch    5/   9] Loss:  1.36e-03\n",
            "[Epoch    9/ 100] [Batch    6/   9] Loss:  1.97e-03\n",
            "[Epoch    9/ 100] [Batch    7/   9] Loss:  1.40e-03\n",
            "[Epoch    9/ 100] [Batch    8/   9] Loss:  1.46e-03\n",
            "[Epoch    9/ 100] [Batch    9/   9] Loss:  1.73e-03\n",
            "[Epoch   10/ 100] [Batch    1/   9] Loss:  1.66e-03\n",
            "[Epoch   10/ 100] [Batch    2/   9] Loss:  1.68e-03\n",
            "[Epoch   10/ 100] [Batch    3/   9] Loss:  1.48e-03\n",
            "[Epoch   10/ 100] [Batch    4/   9] Loss:  1.48e-03\n",
            "[Epoch   10/ 100] [Batch    5/   9] Loss:  1.80e-03\n",
            "[Epoch   10/ 100] [Batch    6/   9] Loss:  1.83e-03\n",
            "[Epoch   10/ 100] [Batch    7/   9] Loss:  1.80e-03\n",
            "[Epoch   10/ 100] [Batch    8/   9] Loss:  1.06e-03\n",
            "[Epoch   10/ 100] [Batch    9/   9] Loss:  1.94e-03\n",
            "[Epoch   11/ 100] [Batch    1/   9] Loss:  1.67e-03\n",
            "[Epoch   11/ 100] [Batch    2/   9] Loss:  1.42e-03\n",
            "[Epoch   11/ 100] [Batch    3/   9] Loss:  1.79e-03\n",
            "[Epoch   11/ 100] [Batch    4/   9] Loss:  1.59e-03\n",
            "[Epoch   11/ 100] [Batch    5/   9] Loss:  1.47e-03\n",
            "[Epoch   11/ 100] [Batch    6/   9] Loss:  1.58e-03\n",
            "[Epoch   11/ 100] [Batch    7/   9] Loss:  1.84e-03\n",
            "[Epoch   11/ 100] [Batch    8/   9] Loss:  1.43e-03\n",
            "[Epoch   11/ 100] [Batch    9/   9] Loss:  1.51e-03\n",
            "[Epoch   12/ 100] [Batch    1/   9] Loss:  1.61e-03\n",
            "[Epoch   12/ 100] [Batch    2/   9] Loss:  1.74e-03\n",
            "[Epoch   12/ 100] [Batch    3/   9] Loss:  1.32e-03\n",
            "[Epoch   12/ 100] [Batch    4/   9] Loss:  1.81e-03\n",
            "[Epoch   12/ 100] [Batch    5/   9] Loss:  1.24e-03\n",
            "[Epoch   12/ 100] [Batch    6/   9] Loss:  1.59e-03\n",
            "[Epoch   12/ 100] [Batch    7/   9] Loss:  1.79e-03\n",
            "[Epoch   12/ 100] [Batch    8/   9] Loss:  1.57e-03\n",
            "[Epoch   12/ 100] [Batch    9/   9] Loss:  1.62e-03\n",
            "[Epoch   13/ 100] [Batch    1/   9] Loss:  1.83e-03\n",
            "[Epoch   13/ 100] [Batch    2/   9] Loss:  1.71e-03\n",
            "[Epoch   13/ 100] [Batch    3/   9] Loss:  1.25e-03\n",
            "[Epoch   13/ 100] [Batch    4/   9] Loss:  1.50e-03\n",
            "[Epoch   13/ 100] [Batch    5/   9] Loss:  1.73e-03\n",
            "[Epoch   13/ 100] [Batch    6/   9] Loss:  1.61e-03\n",
            "[Epoch   13/ 100] [Batch    7/   9] Loss:  1.61e-03\n",
            "[Epoch   13/ 100] [Batch    8/   9] Loss:  1.43e-03\n",
            "[Epoch   13/ 100] [Batch    9/   9] Loss:  1.18e-03\n",
            "[Epoch   14/ 100] [Batch    1/   9] Loss:  1.61e-03\n",
            "[Epoch   14/ 100] [Batch    2/   9] Loss:  1.38e-03\n",
            "[Epoch   14/ 100] [Batch    3/   9] Loss:  1.56e-03\n",
            "[Epoch   14/ 100] [Batch    4/   9] Loss:  1.66e-03\n",
            "[Epoch   14/ 100] [Batch    5/   9] Loss:  1.66e-03\n",
            "[Epoch   14/ 100] [Batch    6/   9] Loss:  1.59e-03\n",
            "[Epoch   14/ 100] [Batch    7/   9] Loss:  1.33e-03\n",
            "[Epoch   14/ 100] [Batch    8/   9] Loss:  1.84e-03\n",
            "[Epoch   14/ 100] [Batch    9/   9] Loss:  1.12e-03\n",
            "[Epoch   15/ 100] [Batch    1/   9] Loss:  1.22e-03\n",
            "[Epoch   15/ 100] [Batch    2/   9] Loss:  1.48e-03\n",
            "[Epoch   15/ 100] [Batch    3/   9] Loss:  1.74e-03\n",
            "[Epoch   15/ 100] [Batch    4/   9] Loss:  1.85e-03\n",
            "[Epoch   15/ 100] [Batch    5/   9] Loss:  1.40e-03\n",
            "[Epoch   15/ 100] [Batch    6/   9] Loss:  1.72e-03\n",
            "[Epoch   15/ 100] [Batch    7/   9] Loss:  1.55e-03\n",
            "[Epoch   15/ 100] [Batch    8/   9] Loss:  1.67e-03\n",
            "[Epoch   15/ 100] [Batch    9/   9] Loss:  1.04e-03\n",
            "[Epoch   16/ 100] [Batch    1/   9] Loss:  1.46e-03\n",
            "[Epoch   16/ 100] [Batch    2/   9] Loss:  1.31e-03\n",
            "[Epoch   16/ 100] [Batch    3/   9] Loss:  1.94e-03\n",
            "[Epoch   16/ 100] [Batch    4/   9] Loss:  1.52e-03\n",
            "[Epoch   16/ 100] [Batch    5/   9] Loss:  1.39e-03\n",
            "[Epoch   16/ 100] [Batch    6/   9] Loss:  1.50e-03\n",
            "[Epoch   16/ 100] [Batch    7/   9] Loss:  1.31e-03\n",
            "[Epoch   16/ 100] [Batch    8/   9] Loss:  2.09e-03\n",
            "[Epoch   16/ 100] [Batch    9/   9] Loss:  1.45e-03\n",
            "[Epoch   17/ 100] [Batch    1/   9] Loss:  1.67e-03\n",
            "[Epoch   17/ 100] [Batch    2/   9] Loss:  1.65e-03\n",
            "[Epoch   17/ 100] [Batch    3/   9] Loss:  1.57e-03\n",
            "[Epoch   17/ 100] [Batch    4/   9] Loss:  1.44e-03\n",
            "[Epoch   17/ 100] [Batch    5/   9] Loss:  1.36e-03\n",
            "[Epoch   17/ 100] [Batch    6/   9] Loss:  1.72e-03\n",
            "[Epoch   17/ 100] [Batch    7/   9] Loss:  1.42e-03\n",
            "[Epoch   17/ 100] [Batch    8/   9] Loss:  1.45e-03\n",
            "[Epoch   17/ 100] [Batch    9/   9] Loss:  1.90e-03\n",
            "[Epoch   18/ 100] [Batch    1/   9] Loss:  1.29e-03\n",
            "[Epoch   18/ 100] [Batch    2/   9] Loss:  1.32e-03\n",
            "[Epoch   18/ 100] [Batch    3/   9] Loss:  1.65e-03\n",
            "[Epoch   18/ 100] [Batch    4/   9] Loss:  1.88e-03\n",
            "[Epoch   18/ 100] [Batch    5/   9] Loss:  1.69e-03\n",
            "[Epoch   18/ 100] [Batch    6/   9] Loss:  1.60e-03\n",
            "[Epoch   18/ 100] [Batch    7/   9] Loss:  1.25e-03\n",
            "[Epoch   18/ 100] [Batch    8/   9] Loss:  1.54e-03\n",
            "[Epoch   18/ 100] [Batch    9/   9] Loss:  2.12e-03\n",
            "[Epoch   19/ 100] [Batch    1/   9] Loss:  1.44e-03\n",
            "[Epoch   19/ 100] [Batch    2/   9] Loss:  1.84e-03\n",
            "[Epoch   19/ 100] [Batch    3/   9] Loss:  1.49e-03\n",
            "[Epoch   19/ 100] [Batch    4/   9] Loss:  1.60e-03\n",
            "[Epoch   19/ 100] [Batch    5/   9] Loss:  1.54e-03\n",
            "[Epoch   19/ 100] [Batch    6/   9] Loss:  1.47e-03\n",
            "[Epoch   19/ 100] [Batch    7/   9] Loss:  1.61e-03\n",
            "[Epoch   19/ 100] [Batch    8/   9] Loss:  1.40e-03\n",
            "[Epoch   19/ 100] [Batch    9/   9] Loss:  1.55e-03\n",
            "[Epoch   20/ 100] [Batch    1/   9] Loss:  1.67e-03\n",
            "[Epoch   20/ 100] [Batch    2/   9] Loss:  1.55e-03\n",
            "[Epoch   20/ 100] [Batch    3/   9] Loss:  1.51e-03\n",
            "[Epoch   20/ 100] [Batch    4/   9] Loss:  1.26e-03\n",
            "[Epoch   20/ 100] [Batch    5/   9] Loss:  1.35e-03\n",
            "[Epoch   20/ 100] [Batch    6/   9] Loss:  1.60e-03\n",
            "[Epoch   20/ 100] [Batch    7/   9] Loss:  1.60e-03\n",
            "[Epoch   20/ 100] [Batch    8/   9] Loss:  1.76e-03\n",
            "[Epoch   20/ 100] [Batch    9/   9] Loss:  1.97e-03\n",
            "[Epoch   21/ 100] [Batch    1/   9] Loss:  1.48e-03\n",
            "[Epoch   21/ 100] [Batch    2/   9] Loss:  1.30e-03\n",
            "[Epoch   21/ 100] [Batch    3/   9] Loss:  1.47e-03\n",
            "[Epoch   21/ 100] [Batch    4/   9] Loss:  2.07e-03\n",
            "[Epoch   21/ 100] [Batch    5/   9] Loss:  1.65e-03\n",
            "[Epoch   21/ 100] [Batch    6/   9] Loss:  1.78e-03\n",
            "[Epoch   21/ 100] [Batch    7/   9] Loss:  1.29e-03\n",
            "[Epoch   21/ 100] [Batch    8/   9] Loss:  1.59e-03\n",
            "[Epoch   21/ 100] [Batch    9/   9] Loss:  1.23e-03\n",
            "[Epoch   22/ 100] [Batch    1/   9] Loss:  1.55e-03\n",
            "[Epoch   22/ 100] [Batch    2/   9] Loss:  1.42e-03\n",
            "[Epoch   22/ 100] [Batch    3/   9] Loss:  1.53e-03\n",
            "[Epoch   22/ 100] [Batch    4/   9] Loss:  1.39e-03\n",
            "[Epoch   22/ 100] [Batch    5/   9] Loss:  1.49e-03\n",
            "[Epoch   22/ 100] [Batch    6/   9] Loss:  1.48e-03\n",
            "[Epoch   22/ 100] [Batch    7/   9] Loss:  1.83e-03\n",
            "[Epoch   22/ 100] [Batch    8/   9] Loss:  1.80e-03\n",
            "[Epoch   22/ 100] [Batch    9/   9] Loss:  1.59e-03\n",
            "[Epoch   23/ 100] [Batch    1/   9] Loss:  1.56e-03\n",
            "[Epoch   23/ 100] [Batch    2/   9] Loss:  1.37e-03\n",
            "[Epoch   23/ 100] [Batch    3/   9] Loss:  1.66e-03\n",
            "[Epoch   23/ 100] [Batch    4/   9] Loss:  1.51e-03\n",
            "[Epoch   23/ 100] [Batch    5/   9] Loss:  1.37e-03\n",
            "[Epoch   23/ 100] [Batch    6/   9] Loss:  1.63e-03\n",
            "[Epoch   23/ 100] [Batch    7/   9] Loss:  1.40e-03\n",
            "[Epoch   23/ 100] [Batch    8/   9] Loss:  1.64e-03\n",
            "[Epoch   23/ 100] [Batch    9/   9] Loss:  2.20e-03\n",
            "[Epoch   24/ 100] [Batch    1/   9] Loss:  1.34e-03\n",
            "[Epoch   24/ 100] [Batch    2/   9] Loss:  1.61e-03\n",
            "[Epoch   24/ 100] [Batch    3/   9] Loss:  1.87e-03\n",
            "[Epoch   24/ 100] [Batch    4/   9] Loss:  1.54e-03\n",
            "[Epoch   24/ 100] [Batch    5/   9] Loss:  1.47e-03\n",
            "[Epoch   24/ 100] [Batch    6/   9] Loss:  1.68e-03\n",
            "[Epoch   24/ 100] [Batch    7/   9] Loss:  1.27e-03\n",
            "[Epoch   24/ 100] [Batch    8/   9] Loss:  1.63e-03\n",
            "[Epoch   24/ 100] [Batch    9/   9] Loss:  1.60e-03\n",
            "[Epoch   25/ 100] [Batch    1/   9] Loss:  1.40e-03\n",
            "[Epoch   25/ 100] [Batch    2/   9] Loss:  1.76e-03\n",
            "[Epoch   25/ 100] [Batch    3/   9] Loss:  1.91e-03\n",
            "[Epoch   25/ 100] [Batch    4/   9] Loss:  1.19e-03\n",
            "[Epoch   25/ 100] [Batch    5/   9] Loss:  1.32e-03\n",
            "[Epoch   25/ 100] [Batch    6/   9] Loss:  1.26e-03\n",
            "[Epoch   25/ 100] [Batch    7/   9] Loss:  1.76e-03\n",
            "[Epoch   25/ 100] [Batch    8/   9] Loss:  1.79e-03\n",
            "[Epoch   25/ 100] [Batch    9/   9] Loss:  1.54e-03\n",
            "[Epoch   26/ 100] [Batch    1/   9] Loss:  1.61e-03\n",
            "[Epoch   26/ 100] [Batch    2/   9] Loss:  1.86e-03\n",
            "[Epoch   26/ 100] [Batch    3/   9] Loss:  1.54e-03\n",
            "[Epoch   26/ 100] [Batch    4/   9] Loss:  1.54e-03\n",
            "[Epoch   26/ 100] [Batch    5/   9] Loss:  1.56e-03\n",
            "[Epoch   26/ 100] [Batch    6/   9] Loss:  1.24e-03\n",
            "[Epoch   26/ 100] [Batch    7/   9] Loss:  1.58e-03\n",
            "[Epoch   26/ 100] [Batch    8/   9] Loss:  1.30e-03\n",
            "[Epoch   26/ 100] [Batch    9/   9] Loss:  2.11e-03\n",
            "[Epoch   27/ 100] [Batch    1/   9] Loss:  1.41e-03\n",
            "[Epoch   27/ 100] [Batch    2/   9] Loss:  1.78e-03\n",
            "[Epoch   27/ 100] [Batch    3/   9] Loss:  1.77e-03\n",
            "[Epoch   27/ 100] [Batch    4/   9] Loss:  1.71e-03\n",
            "[Epoch   27/ 100] [Batch    5/   9] Loss:  1.30e-03\n",
            "[Epoch   27/ 100] [Batch    6/   9] Loss:  1.29e-03\n",
            "[Epoch   27/ 100] [Batch    7/   9] Loss:  1.83e-03\n",
            "[Epoch   27/ 100] [Batch    8/   9] Loss:  1.37e-03\n",
            "[Epoch   27/ 100] [Batch    9/   9] Loss:  1.37e-03\n",
            "[Epoch   28/ 100] [Batch    1/   9] Loss:  1.54e-03\n",
            "[Epoch   28/ 100] [Batch    2/   9] Loss:  1.57e-03\n",
            "[Epoch   28/ 100] [Batch    3/   9] Loss:  1.69e-03\n",
            "[Epoch   28/ 100] [Batch    4/   9] Loss:  1.45e-03\n",
            "[Epoch   28/ 100] [Batch    5/   9] Loss:  1.41e-03\n",
            "[Epoch   28/ 100] [Batch    6/   9] Loss:  1.64e-03\n",
            "[Epoch   28/ 100] [Batch    7/   9] Loss:  1.45e-03\n",
            "[Epoch   28/ 100] [Batch    8/   9] Loss:  1.46e-03\n",
            "[Epoch   28/ 100] [Batch    9/   9] Loss:  2.10e-03\n",
            "[Epoch   29/ 100] [Batch    1/   9] Loss:  1.34e-03\n",
            "[Epoch   29/ 100] [Batch    2/   9] Loss:  1.40e-03\n",
            "[Epoch   29/ 100] [Batch    3/   9] Loss:  1.44e-03\n",
            "[Epoch   29/ 100] [Batch    4/   9] Loss:  1.54e-03\n",
            "[Epoch   29/ 100] [Batch    5/   9] Loss:  1.55e-03\n",
            "[Epoch   29/ 100] [Batch    6/   9] Loss:  1.57e-03\n",
            "[Epoch   29/ 100] [Batch    7/   9] Loss:  1.80e-03\n",
            "[Epoch   29/ 100] [Batch    8/   9] Loss:  1.84e-03\n",
            "[Epoch   29/ 100] [Batch    9/   9] Loss:  1.49e-03\n",
            "[Epoch   30/ 100] [Batch    1/   9] Loss:  2.02e-03\n",
            "[Epoch   30/ 100] [Batch    2/   9] Loss:  1.59e-03\n",
            "[Epoch   30/ 100] [Batch    3/   9] Loss:  1.58e-03\n",
            "[Epoch   30/ 100] [Batch    4/   9] Loss:  1.37e-03\n",
            "[Epoch   30/ 100] [Batch    5/   9] Loss:  1.35e-03\n",
            "[Epoch   30/ 100] [Batch    6/   9] Loss:  1.49e-03\n",
            "[Epoch   30/ 100] [Batch    7/   9] Loss:  1.70e-03\n",
            "[Epoch   30/ 100] [Batch    8/   9] Loss:  1.47e-03\n",
            "[Epoch   30/ 100] [Batch    9/   9] Loss:  1.38e-03\n",
            "[Epoch   31/ 100] [Batch    1/   9] Loss:  1.77e-03\n",
            "[Epoch   31/ 100] [Batch    2/   9] Loss:  1.47e-03\n",
            "[Epoch   31/ 100] [Batch    3/   9] Loss:  1.77e-03\n",
            "[Epoch   31/ 100] [Batch    4/   9] Loss:  1.47e-03\n",
            "[Epoch   31/ 100] [Batch    5/   9] Loss:  1.27e-03\n",
            "[Epoch   31/ 100] [Batch    6/   9] Loss:  1.80e-03\n",
            "[Epoch   31/ 100] [Batch    7/   9] Loss:  1.60e-03\n",
            "[Epoch   31/ 100] [Batch    8/   9] Loss:  1.45e-03\n",
            "[Epoch   31/ 100] [Batch    9/   9] Loss:  1.08e-03\n",
            "[Epoch   32/ 100] [Batch    1/   9] Loss:  1.80e-03\n",
            "[Epoch   32/ 100] [Batch    2/   9] Loss:  1.36e-03\n",
            "[Epoch   32/ 100] [Batch    3/   9] Loss:  1.76e-03\n",
            "[Epoch   32/ 100] [Batch    4/   9] Loss:  1.35e-03\n",
            "[Epoch   32/ 100] [Batch    5/   9] Loss:  1.60e-03\n",
            "[Epoch   32/ 100] [Batch    6/   9] Loss:  1.56e-03\n",
            "[Epoch   32/ 100] [Batch    7/   9] Loss:  1.54e-03\n",
            "[Epoch   32/ 100] [Batch    8/   9] Loss:  1.61e-03\n",
            "[Epoch   32/ 100] [Batch    9/   9] Loss:  1.00e-03\n",
            "[Epoch   33/ 100] [Batch    1/   9] Loss:  1.28e-03\n",
            "[Epoch   33/ 100] [Batch    2/   9] Loss:  1.91e-03\n",
            "[Epoch   33/ 100] [Batch    3/   9] Loss:  1.34e-03\n",
            "[Epoch   33/ 100] [Batch    4/   9] Loss:  1.87e-03\n",
            "[Epoch   33/ 100] [Batch    5/   9] Loss:  1.88e-03\n",
            "[Epoch   33/ 100] [Batch    6/   9] Loss:  1.35e-03\n",
            "[Epoch   33/ 100] [Batch    7/   9] Loss:  1.51e-03\n",
            "[Epoch   33/ 100] [Batch    8/   9] Loss:  1.41e-03\n",
            "[Epoch   33/ 100] [Batch    9/   9] Loss:  1.17e-03\n",
            "[Epoch   34/ 100] [Batch    1/   9] Loss:  1.62e-03\n",
            "[Epoch   34/ 100] [Batch    2/   9] Loss:  1.65e-03\n",
            "[Epoch   34/ 100] [Batch    3/   9] Loss:  1.40e-03\n",
            "[Epoch   34/ 100] [Batch    4/   9] Loss:  1.47e-03\n",
            "[Epoch   34/ 100] [Batch    5/   9] Loss:  1.46e-03\n",
            "[Epoch   34/ 100] [Batch    6/   9] Loss:  1.71e-03\n",
            "[Epoch   34/ 100] [Batch    7/   9] Loss:  1.45e-03\n",
            "[Epoch   34/ 100] [Batch    8/   9] Loss:  1.59e-03\n",
            "[Epoch   34/ 100] [Batch    9/   9] Loss:  1.72e-03\n",
            "[Epoch   35/ 100] [Batch    1/   9] Loss:  1.30e-03\n",
            "[Epoch   35/ 100] [Batch    2/   9] Loss:  1.53e-03\n",
            "[Epoch   35/ 100] [Batch    3/   9] Loss:  1.65e-03\n",
            "[Epoch   35/ 100] [Batch    4/   9] Loss:  1.25e-03\n",
            "[Epoch   35/ 100] [Batch    5/   9] Loss:  2.03e-03\n",
            "[Epoch   35/ 100] [Batch    6/   9] Loss:  1.43e-03\n",
            "[Epoch   35/ 100] [Batch    7/   9] Loss:  1.73e-03\n",
            "[Epoch   35/ 100] [Batch    8/   9] Loss:  1.52e-03\n",
            "[Epoch   35/ 100] [Batch    9/   9] Loss:  1.80e-03\n",
            "[Epoch   36/ 100] [Batch    1/   9] Loss:  1.81e-03\n",
            "[Epoch   36/ 100] [Batch    2/   9] Loss:  1.78e-03\n",
            "[Epoch   36/ 100] [Batch    3/   9] Loss:  1.48e-03\n",
            "[Epoch   36/ 100] [Batch    4/   9] Loss:  1.56e-03\n",
            "[Epoch   36/ 100] [Batch    5/   9] Loss:  1.58e-03\n",
            "[Epoch   36/ 100] [Batch    6/   9] Loss:  1.44e-03\n",
            "[Epoch   36/ 100] [Batch    7/   9] Loss:  1.24e-03\n",
            "[Epoch   36/ 100] [Batch    8/   9] Loss:  1.38e-03\n",
            "[Epoch   36/ 100] [Batch    9/   9] Loss:  2.07e-03\n",
            "[Epoch   37/ 100] [Batch    1/   9] Loss:  1.14e-03\n",
            "[Epoch   37/ 100] [Batch    2/   9] Loss:  1.96e-03\n",
            "[Epoch   37/ 100] [Batch    3/   9] Loss:  1.79e-03\n",
            "[Epoch   37/ 100] [Batch    4/   9] Loss:  1.52e-03\n",
            "[Epoch   37/ 100] [Batch    5/   9] Loss:  1.89e-03\n",
            "[Epoch   37/ 100] [Batch    6/   9] Loss:  1.26e-03\n",
            "[Epoch   37/ 100] [Batch    7/   9] Loss:  1.71e-03\n",
            "[Epoch   37/ 100] [Batch    8/   9] Loss:  1.46e-03\n",
            "[Epoch   37/ 100] [Batch    9/   9] Loss:  1.23e-03\n",
            "[Epoch   38/ 100] [Batch    1/   9] Loss:  1.61e-03\n",
            "[Epoch   38/ 100] [Batch    2/   9] Loss:  1.71e-03\n",
            "[Epoch   38/ 100] [Batch    3/   9] Loss:  1.70e-03\n",
            "[Epoch   38/ 100] [Batch    4/   9] Loss:  1.50e-03\n",
            "[Epoch   38/ 100] [Batch    5/   9] Loss:  1.49e-03\n",
            "[Epoch   38/ 100] [Batch    6/   9] Loss:  1.34e-03\n",
            "[Epoch   38/ 100] [Batch    7/   9] Loss:  1.66e-03\n",
            "[Epoch   38/ 100] [Batch    8/   9] Loss:  1.60e-03\n",
            "[Epoch   38/ 100] [Batch    9/   9] Loss:  2.16e-03\n",
            "[Epoch   39/ 100] [Batch    1/   9] Loss:  1.65e-03\n",
            "[Epoch   39/ 100] [Batch    2/   9] Loss:  1.53e-03\n",
            "[Epoch   39/ 100] [Batch    3/   9] Loss:  1.68e-03\n",
            "[Epoch   39/ 100] [Batch    4/   9] Loss:  1.61e-03\n",
            "[Epoch   39/ 100] [Batch    5/   9] Loss:  1.55e-03\n",
            "[Epoch   39/ 100] [Batch    6/   9] Loss:  1.64e-03\n",
            "[Epoch   39/ 100] [Batch    7/   9] Loss:  1.75e-03\n",
            "[Epoch   39/ 100] [Batch    8/   9] Loss:  1.64e-03\n",
            "[Epoch   39/ 100] [Batch    9/   9] Loss:  1.25e-03\n",
            "[Epoch   40/ 100] [Batch    1/   9] Loss:  1.55e-03\n",
            "[Epoch   40/ 100] [Batch    2/   9] Loss:  1.55e-03\n",
            "[Epoch   40/ 100] [Batch    3/   9] Loss:  1.86e-03\n",
            "[Epoch   40/ 100] [Batch    4/   9] Loss:  1.50e-03\n",
            "[Epoch   40/ 100] [Batch    5/   9] Loss:  1.66e-03\n",
            "[Epoch   40/ 100] [Batch    6/   9] Loss:  1.47e-03\n",
            "[Epoch   40/ 100] [Batch    7/   9] Loss:  1.67e-03\n",
            "[Epoch   40/ 100] [Batch    8/   9] Loss:  1.45e-03\n",
            "[Epoch   40/ 100] [Batch    9/   9] Loss:  1.69e-03\n",
            "[Epoch   41/ 100] [Batch    1/   9] Loss:  1.72e-03\n",
            "[Epoch   41/ 100] [Batch    2/   9] Loss:  1.69e-03\n",
            "[Epoch   41/ 100] [Batch    3/   9] Loss:  1.50e-03\n",
            "[Epoch   41/ 100] [Batch    4/   9] Loss:  1.78e-03\n",
            "[Epoch   41/ 100] [Batch    5/   9] Loss:  1.49e-03\n",
            "[Epoch   41/ 100] [Batch    6/   9] Loss:  1.65e-03\n",
            "[Epoch   41/ 100] [Batch    7/   9] Loss:  1.72e-03\n",
            "[Epoch   41/ 100] [Batch    8/   9] Loss:  1.27e-03\n",
            "[Epoch   41/ 100] [Batch    9/   9] Loss:  1.50e-03\n",
            "[Epoch   42/ 100] [Batch    1/   9] Loss:  1.43e-03\n",
            "[Epoch   42/ 100] [Batch    2/   9] Loss:  1.77e-03\n",
            "[Epoch   42/ 100] [Batch    3/   9] Loss:  1.46e-03\n",
            "[Epoch   42/ 100] [Batch    4/   9] Loss:  1.66e-03\n",
            "[Epoch   42/ 100] [Batch    5/   9] Loss:  1.59e-03\n",
            "[Epoch   42/ 100] [Batch    6/   9] Loss:  1.51e-03\n",
            "[Epoch   42/ 100] [Batch    7/   9] Loss:  1.75e-03\n",
            "[Epoch   42/ 100] [Batch    8/   9] Loss:  1.36e-03\n",
            "[Epoch   42/ 100] [Batch    9/   9] Loss:  1.45e-03\n",
            "[Epoch   43/ 100] [Batch    1/   9] Loss:  1.45e-03\n",
            "[Epoch   43/ 100] [Batch    2/   9] Loss:  1.43e-03\n",
            "[Epoch   43/ 100] [Batch    3/   9] Loss:  1.58e-03\n",
            "[Epoch   43/ 100] [Batch    4/   9] Loss:  1.58e-03\n",
            "[Epoch   43/ 100] [Batch    5/   9] Loss:  1.57e-03\n",
            "[Epoch   43/ 100] [Batch    6/   9] Loss:  1.50e-03\n",
            "[Epoch   43/ 100] [Batch    7/   9] Loss:  1.62e-03\n",
            "[Epoch   43/ 100] [Batch    8/   9] Loss:  1.66e-03\n",
            "[Epoch   43/ 100] [Batch    9/   9] Loss:  1.56e-03\n",
            "[Epoch   44/ 100] [Batch    1/   9] Loss:  1.64e-03\n",
            "[Epoch   44/ 100] [Batch    2/   9] Loss:  1.37e-03\n",
            "[Epoch   44/ 100] [Batch    3/   9] Loss:  1.77e-03\n",
            "[Epoch   44/ 100] [Batch    4/   9] Loss:  1.64e-03\n",
            "[Epoch   44/ 100] [Batch    5/   9] Loss:  1.38e-03\n",
            "[Epoch   44/ 100] [Batch    6/   9] Loss:  1.39e-03\n",
            "[Epoch   44/ 100] [Batch    7/   9] Loss:  1.82e-03\n",
            "[Epoch   44/ 100] [Batch    8/   9] Loss:  1.47e-03\n",
            "[Epoch   44/ 100] [Batch    9/   9] Loss:  1.44e-03\n",
            "[Epoch   45/ 100] [Batch    1/   9] Loss:  1.76e-03\n",
            "[Epoch   45/ 100] [Batch    2/   9] Loss:  1.38e-03\n",
            "[Epoch   45/ 100] [Batch    3/   9] Loss:  1.18e-03\n",
            "[Epoch   45/ 100] [Batch    4/   9] Loss:  1.42e-03\n",
            "[Epoch   45/ 100] [Batch    5/   9] Loss:  1.88e-03\n",
            "[Epoch   45/ 100] [Batch    6/   9] Loss:  1.66e-03\n",
            "[Epoch   45/ 100] [Batch    7/   9] Loss:  1.74e-03\n",
            "[Epoch   45/ 100] [Batch    8/   9] Loss:  1.54e-03\n",
            "[Epoch   45/ 100] [Batch    9/   9] Loss:  1.48e-03\n",
            "[Epoch   46/ 100] [Batch    1/   9] Loss:  1.61e-03\n",
            "[Epoch   46/ 100] [Batch    2/   9] Loss:  1.76e-03\n",
            "[Epoch   46/ 100] [Batch    3/   9] Loss:  1.40e-03\n",
            "[Epoch   46/ 100] [Batch    4/   9] Loss:  1.63e-03\n",
            "[Epoch   46/ 100] [Batch    5/   9] Loss:  1.48e-03\n",
            "[Epoch   46/ 100] [Batch    6/   9] Loss:  1.55e-03\n",
            "[Epoch   46/ 100] [Batch    7/   9] Loss:  1.39e-03\n",
            "[Epoch   46/ 100] [Batch    8/   9] Loss:  1.75e-03\n",
            "[Epoch   46/ 100] [Batch    9/   9] Loss:  9.96e-04\n",
            "[Epoch   47/ 100] [Batch    1/   9] Loss:  1.56e-03\n",
            "[Epoch   47/ 100] [Batch    2/   9] Loss:  1.06e-03\n",
            "[Epoch   47/ 100] [Batch    3/   9] Loss:  1.59e-03\n",
            "[Epoch   47/ 100] [Batch    4/   9] Loss:  1.55e-03\n",
            "[Epoch   47/ 100] [Batch    5/   9] Loss:  2.01e-03\n",
            "[Epoch   47/ 100] [Batch    6/   9] Loss:  1.71e-03\n",
            "[Epoch   47/ 100] [Batch    7/   9] Loss:  1.68e-03\n",
            "[Epoch   47/ 100] [Batch    8/   9] Loss:  1.37e-03\n",
            "[Epoch   47/ 100] [Batch    9/   9] Loss:  1.24e-03\n",
            "[Epoch   48/ 100] [Batch    1/   9] Loss:  1.36e-03\n",
            "[Epoch   48/ 100] [Batch    2/   9] Loss:  1.68e-03\n",
            "[Epoch   48/ 100] [Batch    3/   9] Loss:  1.25e-03\n",
            "[Epoch   48/ 100] [Batch    4/   9] Loss:  1.48e-03\n",
            "[Epoch   48/ 100] [Batch    5/   9] Loss:  1.87e-03\n",
            "[Epoch   48/ 100] [Batch    6/   9] Loss:  1.84e-03\n",
            "[Epoch   48/ 100] [Batch    7/   9] Loss:  1.38e-03\n",
            "[Epoch   48/ 100] [Batch    8/   9] Loss:  1.64e-03\n",
            "[Epoch   48/ 100] [Batch    9/   9] Loss:  1.44e-03\n",
            "[Epoch   49/ 100] [Batch    1/   9] Loss:  1.55e-03\n",
            "[Epoch   49/ 100] [Batch    2/   9] Loss:  1.61e-03\n",
            "[Epoch   49/ 100] [Batch    3/   9] Loss:  1.48e-03\n",
            "[Epoch   49/ 100] [Batch    4/   9] Loss:  1.62e-03\n",
            "[Epoch   49/ 100] [Batch    5/   9] Loss:  1.33e-03\n",
            "[Epoch   49/ 100] [Batch    6/   9] Loss:  1.61e-03\n",
            "[Epoch   49/ 100] [Batch    7/   9] Loss:  1.50e-03\n",
            "[Epoch   49/ 100] [Batch    8/   9] Loss:  1.93e-03\n",
            "[Epoch   49/ 100] [Batch    9/   9] Loss:  1.16e-03\n",
            "[Epoch   50/ 100] [Batch    1/   9] Loss:  1.34e-03\n",
            "[Epoch   50/ 100] [Batch    2/   9] Loss:  1.56e-03\n",
            "[Epoch   50/ 100] [Batch    3/   9] Loss:  1.68e-03\n",
            "[Epoch   50/ 100] [Batch    4/   9] Loss:  1.87e-03\n",
            "[Epoch   50/ 100] [Batch    5/   9] Loss:  1.72e-03\n",
            "[Epoch   50/ 100] [Batch    6/   9] Loss:  1.38e-03\n",
            "[Epoch   50/ 100] [Batch    7/   9] Loss:  1.43e-03\n",
            "[Epoch   50/ 100] [Batch    8/   9] Loss:  1.48e-03\n",
            "[Epoch   50/ 100] [Batch    9/   9] Loss:  1.91e-03\n",
            "[Epoch   51/ 100] [Batch    1/   9] Loss:  1.79e-03\n",
            "[Epoch   51/ 100] [Batch    2/   9] Loss:  1.29e-03\n",
            "[Epoch   51/ 100] [Batch    3/   9] Loss:  1.56e-03\n",
            "[Epoch   51/ 100] [Batch    4/   9] Loss:  1.58e-03\n",
            "[Epoch   51/ 100] [Batch    5/   9] Loss:  1.82e-03\n",
            "[Epoch   51/ 100] [Batch    6/   9] Loss:  1.42e-03\n",
            "[Epoch   51/ 100] [Batch    7/   9] Loss:  1.39e-03\n",
            "[Epoch   51/ 100] [Batch    8/   9] Loss:  1.73e-03\n",
            "[Epoch   51/ 100] [Batch    9/   9] Loss:  1.55e-03\n",
            "[Epoch   52/ 100] [Batch    1/   9] Loss:  1.53e-03\n",
            "[Epoch   52/ 100] [Batch    2/   9] Loss:  1.69e-03\n",
            "[Epoch   52/ 100] [Batch    3/   9] Loss:  1.81e-03\n",
            "[Epoch   52/ 100] [Batch    4/   9] Loss:  1.45e-03\n",
            "[Epoch   52/ 100] [Batch    5/   9] Loss:  1.73e-03\n",
            "[Epoch   52/ 100] [Batch    6/   9] Loss:  1.10e-03\n",
            "[Epoch   52/ 100] [Batch    7/   9] Loss:  2.13e-03\n",
            "[Epoch   52/ 100] [Batch    8/   9] Loss:  1.46e-03\n",
            "[Epoch   52/ 100] [Batch    9/   9] Loss:  1.05e-03\n",
            "[Epoch   53/ 100] [Batch    1/   9] Loss:  1.56e-03\n",
            "[Epoch   53/ 100] [Batch    2/   9] Loss:  1.49e-03\n",
            "[Epoch   53/ 100] [Batch    3/   9] Loss:  1.55e-03\n",
            "[Epoch   53/ 100] [Batch    4/   9] Loss:  1.62e-03\n",
            "[Epoch   53/ 100] [Batch    5/   9] Loss:  1.40e-03\n",
            "[Epoch   53/ 100] [Batch    6/   9] Loss:  1.27e-03\n",
            "[Epoch   53/ 100] [Batch    7/   9] Loss:  1.99e-03\n",
            "[Epoch   53/ 100] [Batch    8/   9] Loss:  1.68e-03\n",
            "[Epoch   53/ 100] [Batch    9/   9] Loss:  1.84e-03\n",
            "[Epoch   54/ 100] [Batch    1/   9] Loss:  1.94e-03\n",
            "[Epoch   54/ 100] [Batch    2/   9] Loss:  1.22e-03\n",
            "[Epoch   54/ 100] [Batch    3/   9] Loss:  1.61e-03\n",
            "[Epoch   54/ 100] [Batch    4/   9] Loss:  1.57e-03\n",
            "[Epoch   54/ 100] [Batch    5/   9] Loss:  1.60e-03\n",
            "[Epoch   54/ 100] [Batch    6/   9] Loss:  1.70e-03\n",
            "[Epoch   54/ 100] [Batch    7/   9] Loss:  1.46e-03\n",
            "[Epoch   54/ 100] [Batch    8/   9] Loss:  1.50e-03\n",
            "[Epoch   54/ 100] [Batch    9/   9] Loss:  1.32e-03\n",
            "[Epoch   55/ 100] [Batch    1/   9] Loss:  1.49e-03\n",
            "[Epoch   55/ 100] [Batch    2/   9] Loss:  1.58e-03\n",
            "[Epoch   55/ 100] [Batch    3/   9] Loss:  1.45e-03\n",
            "[Epoch   55/ 100] [Batch    4/   9] Loss:  1.47e-03\n",
            "[Epoch   55/ 100] [Batch    5/   9] Loss:  1.58e-03\n",
            "[Epoch   55/ 100] [Batch    6/   9] Loss:  1.64e-03\n",
            "[Epoch   55/ 100] [Batch    7/   9] Loss:  1.69e-03\n",
            "[Epoch   55/ 100] [Batch    8/   9] Loss:  1.31e-03\n",
            "[Epoch   55/ 100] [Batch    9/   9] Loss:  2.38e-03\n",
            "[Epoch   56/ 100] [Batch    1/   9] Loss:  1.65e-03\n",
            "[Epoch   56/ 100] [Batch    2/   9] Loss:  1.16e-03\n",
            "[Epoch   56/ 100] [Batch    3/   9] Loss:  1.42e-03\n",
            "[Epoch   56/ 100] [Batch    4/   9] Loss:  1.78e-03\n",
            "[Epoch   56/ 100] [Batch    5/   9] Loss:  1.85e-03\n",
            "[Epoch   56/ 100] [Batch    6/   9] Loss:  1.51e-03\n",
            "[Epoch   56/ 100] [Batch    7/   9] Loss:  1.88e-03\n",
            "[Epoch   56/ 100] [Batch    8/   9] Loss:  1.41e-03\n",
            "[Epoch   56/ 100] [Batch    9/   9] Loss:  1.83e-03\n",
            "[Epoch   57/ 100] [Batch    1/   9] Loss:  1.26e-03\n",
            "[Epoch   57/ 100] [Batch    2/   9] Loss:  1.49e-03\n",
            "[Epoch   57/ 100] [Batch    3/   9] Loss:  1.68e-03\n",
            "[Epoch   57/ 100] [Batch    4/   9] Loss:  1.67e-03\n",
            "[Epoch   57/ 100] [Batch    5/   9] Loss:  1.34e-03\n",
            "[Epoch   57/ 100] [Batch    6/   9] Loss:  1.82e-03\n",
            "[Epoch   57/ 100] [Batch    7/   9] Loss:  1.59e-03\n",
            "[Epoch   57/ 100] [Batch    8/   9] Loss:  2.01e-03\n",
            "[Epoch   57/ 100] [Batch    9/   9] Loss:  1.34e-03\n",
            "[Epoch   58/ 100] [Batch    1/   9] Loss:  1.31e-03\n",
            "[Epoch   58/ 100] [Batch    2/   9] Loss:  1.76e-03\n",
            "[Epoch   58/ 100] [Batch    3/   9] Loss:  1.88e-03\n",
            "[Epoch   58/ 100] [Batch    4/   9] Loss:  1.71e-03\n",
            "[Epoch   58/ 100] [Batch    5/   9] Loss:  1.49e-03\n",
            "[Epoch   58/ 100] [Batch    6/   9] Loss:  1.24e-03\n",
            "[Epoch   58/ 100] [Batch    7/   9] Loss:  1.54e-03\n",
            "[Epoch   58/ 100] [Batch    8/   9] Loss:  1.37e-03\n",
            "[Epoch   58/ 100] [Batch    9/   9] Loss:  1.86e-03\n",
            "[Epoch   59/ 100] [Batch    1/   9] Loss:  1.44e-03\n",
            "[Epoch   59/ 100] [Batch    2/   9] Loss:  1.35e-03\n",
            "[Epoch   59/ 100] [Batch    3/   9] Loss:  1.57e-03\n",
            "[Epoch   59/ 100] [Batch    4/   9] Loss:  1.24e-03\n",
            "[Epoch   59/ 100] [Batch    5/   9] Loss:  1.82e-03\n",
            "[Epoch   59/ 100] [Batch    6/   9] Loss:  1.75e-03\n",
            "[Epoch   59/ 100] [Batch    7/   9] Loss:  1.66e-03\n",
            "[Epoch   59/ 100] [Batch    8/   9] Loss:  1.68e-03\n",
            "[Epoch   59/ 100] [Batch    9/   9] Loss:  1.32e-03\n",
            "[Epoch   60/ 100] [Batch    1/   9] Loss:  1.52e-03\n",
            "[Epoch   60/ 100] [Batch    2/   9] Loss:  1.59e-03\n",
            "[Epoch   60/ 100] [Batch    3/   9] Loss:  1.46e-03\n",
            "[Epoch   60/ 100] [Batch    4/   9] Loss:  1.28e-03\n",
            "[Epoch   60/ 100] [Batch    5/   9] Loss:  1.72e-03\n",
            "[Epoch   60/ 100] [Batch    6/   9] Loss:  1.39e-03\n",
            "[Epoch   60/ 100] [Batch    7/   9] Loss:  1.84e-03\n",
            "[Epoch   60/ 100] [Batch    8/   9] Loss:  1.59e-03\n",
            "[Epoch   60/ 100] [Batch    9/   9] Loss:  1.77e-03\n",
            "[Epoch   61/ 100] [Batch    1/   9] Loss:  1.36e-03\n",
            "[Epoch   61/ 100] [Batch    2/   9] Loss:  1.72e-03\n",
            "[Epoch   61/ 100] [Batch    3/   9] Loss:  1.57e-03\n",
            "[Epoch   61/ 100] [Batch    4/   9] Loss:  1.55e-03\n",
            "[Epoch   61/ 100] [Batch    5/   9] Loss:  1.38e-03\n",
            "[Epoch   61/ 100] [Batch    6/   9] Loss:  1.69e-03\n",
            "[Epoch   61/ 100] [Batch    7/   9] Loss:  1.48e-03\n",
            "[Epoch   61/ 100] [Batch    8/   9] Loss:  1.59e-03\n",
            "[Epoch   61/ 100] [Batch    9/   9] Loss:  2.02e-03\n",
            "[Epoch   62/ 100] [Batch    1/   9] Loss:  1.58e-03\n",
            "[Epoch   62/ 100] [Batch    2/   9] Loss:  1.42e-03\n",
            "[Epoch   62/ 100] [Batch    3/   9] Loss:  1.80e-03\n",
            "[Epoch   62/ 100] [Batch    4/   9] Loss:  1.75e-03\n",
            "[Epoch   62/ 100] [Batch    5/   9] Loss:  1.54e-03\n",
            "[Epoch   62/ 100] [Batch    6/   9] Loss:  1.21e-03\n",
            "[Epoch   62/ 100] [Batch    7/   9] Loss:  1.47e-03\n",
            "[Epoch   62/ 100] [Batch    8/   9] Loss:  1.71e-03\n",
            "[Epoch   62/ 100] [Batch    9/   9] Loss:  1.53e-03\n",
            "[Epoch   63/ 100] [Batch    1/   9] Loss:  1.76e-03\n",
            "[Epoch   63/ 100] [Batch    2/   9] Loss:  1.29e-03\n",
            "[Epoch   63/ 100] [Batch    3/   9] Loss:  2.21e-03\n",
            "[Epoch   63/ 100] [Batch    4/   9] Loss:  1.30e-03\n",
            "[Epoch   63/ 100] [Batch    5/   9] Loss:  1.60e-03\n",
            "[Epoch   63/ 100] [Batch    6/   9] Loss:  1.37e-03\n",
            "[Epoch   63/ 100] [Batch    7/   9] Loss:  1.42e-03\n",
            "[Epoch   63/ 100] [Batch    8/   9] Loss:  1.41e-03\n",
            "[Epoch   63/ 100] [Batch    9/   9] Loss:  1.71e-03\n",
            "[Epoch   64/ 100] [Batch    1/   9] Loss:  1.42e-03\n",
            "[Epoch   64/ 100] [Batch    2/   9] Loss:  1.64e-03\n",
            "[Epoch   64/ 100] [Batch    3/   9] Loss:  1.39e-03\n",
            "[Epoch   64/ 100] [Batch    4/   9] Loss:  1.30e-03\n",
            "[Epoch   64/ 100] [Batch    5/   9] Loss:  1.73e-03\n",
            "[Epoch   64/ 100] [Batch    6/   9] Loss:  1.45e-03\n",
            "[Epoch   64/ 100] [Batch    7/   9] Loss:  1.99e-03\n",
            "[Epoch   64/ 100] [Batch    8/   9] Loss:  1.51e-03\n",
            "[Epoch   64/ 100] [Batch    9/   9] Loss:  1.65e-03\n",
            "[Epoch   65/ 100] [Batch    1/   9] Loss:  1.42e-03\n",
            "[Epoch   65/ 100] [Batch    2/   9] Loss:  1.79e-03\n",
            "[Epoch   65/ 100] [Batch    3/   9] Loss:  1.62e-03\n",
            "[Epoch   65/ 100] [Batch    4/   9] Loss:  1.46e-03\n",
            "[Epoch   65/ 100] [Batch    5/   9] Loss:  1.33e-03\n",
            "[Epoch   65/ 100] [Batch    6/   9] Loss:  1.55e-03\n",
            "[Epoch   65/ 100] [Batch    7/   9] Loss:  1.53e-03\n",
            "[Epoch   65/ 100] [Batch    8/   9] Loss:  1.72e-03\n",
            "[Epoch   65/ 100] [Batch    9/   9] Loss:  1.76e-03\n",
            "[Epoch   66/ 100] [Batch    1/   9] Loss:  1.37e-03\n",
            "[Epoch   66/ 100] [Batch    2/   9] Loss:  1.61e-03\n",
            "[Epoch   66/ 100] [Batch    3/   9] Loss:  1.61e-03\n",
            "[Epoch   66/ 100] [Batch    4/   9] Loss:  1.69e-03\n",
            "[Epoch   66/ 100] [Batch    5/   9] Loss:  1.99e-03\n",
            "[Epoch   66/ 100] [Batch    6/   9] Loss:  1.49e-03\n",
            "[Epoch   66/ 100] [Batch    7/   9] Loss:  1.46e-03\n",
            "[Epoch   66/ 100] [Batch    8/   9] Loss:  1.53e-03\n",
            "[Epoch   66/ 100] [Batch    9/   9] Loss:  1.02e-03\n",
            "[Epoch   67/ 100] [Batch    1/   9] Loss:  1.51e-03\n",
            "[Epoch   67/ 100] [Batch    2/   9] Loss:  1.68e-03\n",
            "[Epoch   67/ 100] [Batch    3/   9] Loss:  1.66e-03\n",
            "[Epoch   67/ 100] [Batch    4/   9] Loss:  1.47e-03\n",
            "[Epoch   67/ 100] [Batch    5/   9] Loss:  1.63e-03\n",
            "[Epoch   67/ 100] [Batch    6/   9] Loss:  1.33e-03\n",
            "[Epoch   67/ 100] [Batch    7/   9] Loss:  1.54e-03\n",
            "[Epoch   67/ 100] [Batch    8/   9] Loss:  1.55e-03\n",
            "[Epoch   67/ 100] [Batch    9/   9] Loss:  1.97e-03\n",
            "[Epoch   68/ 100] [Batch    1/   9] Loss:  1.49e-03\n",
            "[Epoch   68/ 100] [Batch    2/   9] Loss:  1.54e-03\n",
            "[Epoch   68/ 100] [Batch    3/   9] Loss:  1.59e-03\n",
            "[Epoch   68/ 100] [Batch    4/   9] Loss:  1.82e-03\n",
            "[Epoch   68/ 100] [Batch    5/   9] Loss:  1.23e-03\n",
            "[Epoch   68/ 100] [Batch    6/   9] Loss:  1.77e-03\n",
            "[Epoch   68/ 100] [Batch    7/   9] Loss:  1.74e-03\n",
            "[Epoch   68/ 100] [Batch    8/   9] Loss:  1.43e-03\n",
            "[Epoch   68/ 100] [Batch    9/   9] Loss:  1.11e-03\n",
            "[Epoch   69/ 100] [Batch    1/   9] Loss:  1.77e-03\n",
            "[Epoch   69/ 100] [Batch    2/   9] Loss:  1.42e-03\n",
            "[Epoch   69/ 100] [Batch    3/   9] Loss:  1.65e-03\n",
            "[Epoch   69/ 100] [Batch    4/   9] Loss:  1.74e-03\n",
            "[Epoch   69/ 100] [Batch    5/   9] Loss:  1.35e-03\n",
            "[Epoch   69/ 100] [Batch    6/   9] Loss:  1.64e-03\n",
            "[Epoch   69/ 100] [Batch    7/   9] Loss:  1.55e-03\n",
            "[Epoch   69/ 100] [Batch    8/   9] Loss:  1.54e-03\n",
            "[Epoch   69/ 100] [Batch    9/   9] Loss:  1.29e-03\n",
            "[Epoch   70/ 100] [Batch    1/   9] Loss:  2.16e-03\n",
            "[Epoch   70/ 100] [Batch    2/   9] Loss:  1.56e-03\n",
            "[Epoch   70/ 100] [Batch    3/   9] Loss:  1.78e-03\n",
            "[Epoch   70/ 100] [Batch    4/   9] Loss:  1.45e-03\n",
            "[Epoch   70/ 100] [Batch    5/   9] Loss:  1.30e-03\n",
            "[Epoch   70/ 100] [Batch    6/   9] Loss:  1.41e-03\n",
            "[Epoch   70/ 100] [Batch    7/   9] Loss:  1.33e-03\n",
            "[Epoch   70/ 100] [Batch    8/   9] Loss:  1.61e-03\n",
            "[Epoch   70/ 100] [Batch    9/   9] Loss:  1.17e-03\n",
            "[Epoch   71/ 100] [Batch    1/   9] Loss:  1.68e-03\n",
            "[Epoch   71/ 100] [Batch    2/   9] Loss:  1.67e-03\n",
            "[Epoch   71/ 100] [Batch    3/   9] Loss:  1.42e-03\n",
            "[Epoch   71/ 100] [Batch    4/   9] Loss:  1.52e-03\n",
            "[Epoch   71/ 100] [Batch    5/   9] Loss:  1.70e-03\n",
            "[Epoch   71/ 100] [Batch    6/   9] Loss:  1.32e-03\n",
            "[Epoch   71/ 100] [Batch    7/   9] Loss:  1.49e-03\n",
            "[Epoch   71/ 100] [Batch    8/   9] Loss:  1.68e-03\n",
            "[Epoch   71/ 100] [Batch    9/   9] Loss:  1.82e-03\n",
            "[Epoch   72/ 100] [Batch    1/   9] Loss:  1.66e-03\n",
            "[Epoch   72/ 100] [Batch    2/   9] Loss:  1.36e-03\n",
            "[Epoch   72/ 100] [Batch    3/   9] Loss:  1.55e-03\n",
            "[Epoch   72/ 100] [Batch    4/   9] Loss:  2.00e-03\n",
            "[Epoch   72/ 100] [Batch    5/   9] Loss:  1.55e-03\n",
            "[Epoch   72/ 100] [Batch    6/   9] Loss:  1.63e-03\n",
            "[Epoch   72/ 100] [Batch    7/   9] Loss:  1.34e-03\n",
            "[Epoch   72/ 100] [Batch    8/   9] Loss:  1.41e-03\n",
            "[Epoch   72/ 100] [Batch    9/   9] Loss:  1.51e-03\n",
            "[Epoch   73/ 100] [Batch    1/   9] Loss:  1.68e-03\n",
            "[Epoch   73/ 100] [Batch    2/   9] Loss:  1.43e-03\n",
            "[Epoch   73/ 100] [Batch    3/   9] Loss:  1.55e-03\n",
            "[Epoch   73/ 100] [Batch    4/   9] Loss:  1.48e-03\n",
            "[Epoch   73/ 100] [Batch    5/   9] Loss:  1.69e-03\n",
            "[Epoch   73/ 100] [Batch    6/   9] Loss:  1.67e-03\n",
            "[Epoch   73/ 100] [Batch    7/   9] Loss:  1.25e-03\n",
            "[Epoch   73/ 100] [Batch    8/   9] Loss:  1.56e-03\n",
            "[Epoch   73/ 100] [Batch    9/   9] Loss:  2.05e-03\n",
            "[Epoch   74/ 100] [Batch    1/   9] Loss:  1.79e-03\n",
            "[Epoch   74/ 100] [Batch    2/   9] Loss:  1.55e-03\n",
            "[Epoch   74/ 100] [Batch    3/   9] Loss:  1.58e-03\n",
            "[Epoch   74/ 100] [Batch    4/   9] Loss:  1.43e-03\n",
            "[Epoch   74/ 100] [Batch    5/   9] Loss:  1.56e-03\n",
            "[Epoch   74/ 100] [Batch    6/   9] Loss:  1.60e-03\n",
            "[Epoch   74/ 100] [Batch    7/   9] Loss:  1.47e-03\n",
            "[Epoch   74/ 100] [Batch    8/   9] Loss:  1.52e-03\n",
            "[Epoch   74/ 100] [Batch    9/   9] Loss:  1.65e-03\n",
            "[Epoch   75/ 100] [Batch    1/   9] Loss:  1.70e-03\n",
            "[Epoch   75/ 100] [Batch    2/   9] Loss:  1.57e-03\n",
            "[Epoch   75/ 100] [Batch    3/   9] Loss:  1.49e-03\n",
            "[Epoch   75/ 100] [Batch    4/   9] Loss:  1.39e-03\n",
            "[Epoch   75/ 100] [Batch    5/   9] Loss:  1.57e-03\n",
            "[Epoch   75/ 100] [Batch    6/   9] Loss:  1.65e-03\n",
            "[Epoch   75/ 100] [Batch    7/   9] Loss:  1.60e-03\n",
            "[Epoch   75/ 100] [Batch    8/   9] Loss:  1.70e-03\n",
            "[Epoch   75/ 100] [Batch    9/   9] Loss:  1.01e-03\n",
            "[Epoch   76/ 100] [Batch    1/   9] Loss:  1.71e-03\n",
            "[Epoch   76/ 100] [Batch    2/   9] Loss:  1.46e-03\n",
            "[Epoch   76/ 100] [Batch    3/   9] Loss:  1.30e-03\n",
            "[Epoch   76/ 100] [Batch    4/   9] Loss:  1.73e-03\n",
            "[Epoch   76/ 100] [Batch    5/   9] Loss:  1.60e-03\n",
            "[Epoch   76/ 100] [Batch    6/   9] Loss:  1.94e-03\n",
            "[Epoch   76/ 100] [Batch    7/   9] Loss:  1.77e-03\n",
            "[Epoch   76/ 100] [Batch    8/   9] Loss:  1.60e-03\n",
            "[Epoch   76/ 100] [Batch    9/   9] Loss:  1.51e-03\n",
            "[Epoch   77/ 100] [Batch    1/   9] Loss:  1.23e-03\n",
            "[Epoch   77/ 100] [Batch    2/   9] Loss:  1.76e-03\n",
            "[Epoch   77/ 100] [Batch    3/   9] Loss:  1.52e-03\n",
            "[Epoch   77/ 100] [Batch    4/   9] Loss:  1.75e-03\n",
            "[Epoch   77/ 100] [Batch    5/   9] Loss:  1.57e-03\n",
            "[Epoch   77/ 100] [Batch    6/   9] Loss:  1.78e-03\n",
            "[Epoch   77/ 100] [Batch    7/   9] Loss:  1.59e-03\n",
            "[Epoch   77/ 100] [Batch    8/   9] Loss:  1.51e-03\n",
            "[Epoch   77/ 100] [Batch    9/   9] Loss:  1.39e-03\n",
            "[Epoch   78/ 100] [Batch    1/   9] Loss:  1.67e-03\n",
            "[Epoch   78/ 100] [Batch    2/   9] Loss:  1.76e-03\n",
            "[Epoch   78/ 100] [Batch    3/   9] Loss:  1.53e-03\n",
            "[Epoch   78/ 100] [Batch    4/   9] Loss:  1.64e-03\n",
            "[Epoch   78/ 100] [Batch    5/   9] Loss:  1.64e-03\n",
            "[Epoch   78/ 100] [Batch    6/   9] Loss:  1.38e-03\n",
            "[Epoch   78/ 100] [Batch    7/   9] Loss:  1.52e-03\n",
            "[Epoch   78/ 100] [Batch    8/   9] Loss:  1.50e-03\n",
            "[Epoch   78/ 100] [Batch    9/   9] Loss:  1.10e-03\n",
            "[Epoch   79/ 100] [Batch    1/   9] Loss:  1.47e-03\n",
            "[Epoch   79/ 100] [Batch    2/   9] Loss:  1.67e-03\n",
            "[Epoch   79/ 100] [Batch    3/   9] Loss:  1.56e-03\n",
            "[Epoch   79/ 100] [Batch    4/   9] Loss:  1.73e-03\n",
            "[Epoch   79/ 100] [Batch    5/   9] Loss:  1.59e-03\n",
            "[Epoch   79/ 100] [Batch    6/   9] Loss:  1.49e-03\n",
            "[Epoch   79/ 100] [Batch    7/   9] Loss:  1.53e-03\n",
            "[Epoch   79/ 100] [Batch    8/   9] Loss:  1.57e-03\n",
            "[Epoch   79/ 100] [Batch    9/   9] Loss:  1.75e-03\n",
            "[Epoch   80/ 100] [Batch    1/   9] Loss:  1.35e-03\n",
            "[Epoch   80/ 100] [Batch    2/   9] Loss:  1.61e-03\n",
            "[Epoch   80/ 100] [Batch    3/   9] Loss:  1.68e-03\n",
            "[Epoch   80/ 100] [Batch    4/   9] Loss:  1.73e-03\n",
            "[Epoch   80/ 100] [Batch    5/   9] Loss:  1.84e-03\n",
            "[Epoch   80/ 100] [Batch    6/   9] Loss:  1.35e-03\n",
            "[Epoch   80/ 100] [Batch    7/   9] Loss:  1.32e-03\n",
            "[Epoch   80/ 100] [Batch    8/   9] Loss:  1.60e-03\n",
            "[Epoch   80/ 100] [Batch    9/   9] Loss:  1.84e-03\n",
            "[Epoch   81/ 100] [Batch    1/   9] Loss:  1.68e-03\n",
            "[Epoch   81/ 100] [Batch    2/   9] Loss:  1.73e-03\n",
            "[Epoch   81/ 100] [Batch    3/   9] Loss:  1.50e-03\n",
            "[Epoch   81/ 100] [Batch    4/   9] Loss:  1.54e-03\n",
            "[Epoch   81/ 100] [Batch    5/   9] Loss:  1.43e-03\n",
            "[Epoch   81/ 100] [Batch    6/   9] Loss:  1.45e-03\n",
            "[Epoch   81/ 100] [Batch    7/   9] Loss:  1.80e-03\n",
            "[Epoch   81/ 100] [Batch    8/   9] Loss:  1.65e-03\n",
            "[Epoch   81/ 100] [Batch    9/   9] Loss:  1.33e-03\n",
            "[Epoch   82/ 100] [Batch    1/   9] Loss:  1.51e-03\n",
            "[Epoch   82/ 100] [Batch    2/   9] Loss:  1.71e-03\n",
            "[Epoch   82/ 100] [Batch    3/   9] Loss:  1.52e-03\n",
            "[Epoch   82/ 100] [Batch    4/   9] Loss:  1.31e-03\n",
            "[Epoch   82/ 100] [Batch    5/   9] Loss:  1.44e-03\n",
            "[Epoch   82/ 100] [Batch    6/   9] Loss:  1.62e-03\n",
            "[Epoch   82/ 100] [Batch    7/   9] Loss:  1.67e-03\n",
            "[Epoch   82/ 100] [Batch    8/   9] Loss:  1.43e-03\n",
            "[Epoch   82/ 100] [Batch    9/   9] Loss:  2.31e-03\n",
            "[Epoch   83/ 100] [Batch    1/   9] Loss:  1.51e-03\n",
            "[Epoch   83/ 100] [Batch    2/   9] Loss:  1.64e-03\n",
            "[Epoch   83/ 100] [Batch    3/   9] Loss:  1.80e-03\n",
            "[Epoch   83/ 100] [Batch    4/   9] Loss:  1.76e-03\n",
            "[Epoch   83/ 100] [Batch    5/   9] Loss:  1.33e-03\n",
            "[Epoch   83/ 100] [Batch    6/   9] Loss:  1.60e-03\n",
            "[Epoch   83/ 100] [Batch    7/   9] Loss:  1.59e-03\n",
            "[Epoch   83/ 100] [Batch    8/   9] Loss:  1.15e-03\n",
            "[Epoch   83/ 100] [Batch    9/   9] Loss:  1.90e-03\n",
            "[Epoch   84/ 100] [Batch    1/   9] Loss:  1.60e-03\n",
            "[Epoch   84/ 100] [Batch    2/   9] Loss:  1.48e-03\n",
            "[Epoch   84/ 100] [Batch    3/   9] Loss:  1.46e-03\n",
            "[Epoch   84/ 100] [Batch    4/   9] Loss:  1.42e-03\n",
            "[Epoch   84/ 100] [Batch    5/   9] Loss:  1.43e-03\n",
            "[Epoch   84/ 100] [Batch    6/   9] Loss:  1.89e-03\n",
            "[Epoch   84/ 100] [Batch    7/   9] Loss:  1.68e-03\n",
            "[Epoch   84/ 100] [Batch    8/   9] Loss:  1.34e-03\n",
            "[Epoch   84/ 100] [Batch    9/   9] Loss:  1.91e-03\n",
            "[Epoch   85/ 100] [Batch    1/   9] Loss:  1.88e-03\n",
            "[Epoch   85/ 100] [Batch    2/   9] Loss:  1.49e-03\n",
            "[Epoch   85/ 100] [Batch    3/   9] Loss:  1.53e-03\n",
            "[Epoch   85/ 100] [Batch    4/   9] Loss:  1.45e-03\n",
            "[Epoch   85/ 100] [Batch    5/   9] Loss:  1.67e-03\n",
            "[Epoch   85/ 100] [Batch    6/   9] Loss:  1.37e-03\n",
            "[Epoch   85/ 100] [Batch    7/   9] Loss:  1.50e-03\n",
            "[Epoch   85/ 100] [Batch    8/   9] Loss:  1.62e-03\n",
            "[Epoch   85/ 100] [Batch    9/   9] Loss:  1.75e-03\n",
            "[Epoch   86/ 100] [Batch    1/   9] Loss:  1.28e-03\n",
            "[Epoch   86/ 100] [Batch    2/   9] Loss:  1.51e-03\n",
            "[Epoch   86/ 100] [Batch    3/   9] Loss:  1.57e-03\n",
            "[Epoch   86/ 100] [Batch    4/   9] Loss:  1.47e-03\n",
            "[Epoch   86/ 100] [Batch    5/   9] Loss:  1.74e-03\n",
            "[Epoch   86/ 100] [Batch    6/   9] Loss:  1.42e-03\n",
            "[Epoch   86/ 100] [Batch    7/   9] Loss:  1.35e-03\n",
            "[Epoch   86/ 100] [Batch    8/   9] Loss:  1.77e-03\n",
            "[Epoch   86/ 100] [Batch    9/   9] Loss:  2.53e-03\n",
            "[Epoch   87/ 100] [Batch    1/   9] Loss:  1.70e-03\n",
            "[Epoch   87/ 100] [Batch    2/   9] Loss:  1.25e-03\n",
            "[Epoch   87/ 100] [Batch    3/   9] Loss:  1.59e-03\n",
            "[Epoch   87/ 100] [Batch    4/   9] Loss:  1.60e-03\n",
            "[Epoch   87/ 100] [Batch    5/   9] Loss:  1.52e-03\n",
            "[Epoch   87/ 100] [Batch    6/   9] Loss:  1.58e-03\n",
            "[Epoch   87/ 100] [Batch    7/   9] Loss:  1.73e-03\n",
            "[Epoch   87/ 100] [Batch    8/   9] Loss:  1.90e-03\n",
            "[Epoch   87/ 100] [Batch    9/   9] Loss:  1.10e-03\n",
            "[Epoch   88/ 100] [Batch    1/   9] Loss:  1.59e-03\n",
            "[Epoch   88/ 100] [Batch    2/   9] Loss:  1.46e-03\n",
            "[Epoch   88/ 100] [Batch    3/   9] Loss:  1.44e-03\n",
            "[Epoch   88/ 100] [Batch    4/   9] Loss:  1.69e-03\n",
            "[Epoch   88/ 100] [Batch    5/   9] Loss:  1.59e-03\n",
            "[Epoch   88/ 100] [Batch    6/   9] Loss:  1.56e-03\n",
            "[Epoch   88/ 100] [Batch    7/   9] Loss:  1.47e-03\n",
            "[Epoch   88/ 100] [Batch    8/   9] Loss:  1.66e-03\n",
            "[Epoch   88/ 100] [Batch    9/   9] Loss:  1.49e-03\n",
            "[Epoch   89/ 100] [Batch    1/   9] Loss:  1.28e-03\n",
            "[Epoch   89/ 100] [Batch    2/   9] Loss:  1.50e-03\n",
            "[Epoch   89/ 100] [Batch    3/   9] Loss:  1.83e-03\n",
            "[Epoch   89/ 100] [Batch    4/   9] Loss:  1.67e-03\n",
            "[Epoch   89/ 100] [Batch    5/   9] Loss:  1.67e-03\n",
            "[Epoch   89/ 100] [Batch    6/   9] Loss:  1.33e-03\n",
            "[Epoch   89/ 100] [Batch    7/   9] Loss:  1.87e-03\n",
            "[Epoch   89/ 100] [Batch    8/   9] Loss:  1.44e-03\n",
            "[Epoch   89/ 100] [Batch    9/   9] Loss:  9.69e-04\n",
            "[Epoch   90/ 100] [Batch    1/   9] Loss:  1.63e-03\n",
            "[Epoch   90/ 100] [Batch    2/   9] Loss:  1.65e-03\n",
            "[Epoch   90/ 100] [Batch    3/   9] Loss:  1.57e-03\n",
            "[Epoch   90/ 100] [Batch    4/   9] Loss:  2.11e-03\n",
            "[Epoch   90/ 100] [Batch    5/   9] Loss:  1.64e-03\n",
            "[Epoch   90/ 100] [Batch    6/   9] Loss:  1.67e-03\n",
            "[Epoch   90/ 100] [Batch    7/   9] Loss:  1.42e-03\n",
            "[Epoch   90/ 100] [Batch    8/   9] Loss:  1.35e-03\n",
            "[Epoch   90/ 100] [Batch    9/   9] Loss:  1.05e-03\n",
            "[Epoch   91/ 100] [Batch    1/   9] Loss:  1.39e-03\n",
            "[Epoch   91/ 100] [Batch    2/   9] Loss:  1.58e-03\n",
            "[Epoch   91/ 100] [Batch    3/   9] Loss:  1.39e-03\n",
            "[Epoch   91/ 100] [Batch    4/   9] Loss:  1.61e-03\n",
            "[Epoch   91/ 100] [Batch    5/   9] Loss:  1.97e-03\n",
            "[Epoch   91/ 100] [Batch    6/   9] Loss:  1.52e-03\n",
            "[Epoch   91/ 100] [Batch    7/   9] Loss:  1.57e-03\n",
            "[Epoch   91/ 100] [Batch    8/   9] Loss:  1.45e-03\n",
            "[Epoch   91/ 100] [Batch    9/   9] Loss:  1.64e-03\n",
            "[Epoch   92/ 100] [Batch    1/   9] Loss:  1.57e-03\n",
            "[Epoch   92/ 100] [Batch    2/   9] Loss:  1.87e-03\n",
            "[Epoch   92/ 100] [Batch    3/   9] Loss:  1.51e-03\n",
            "[Epoch   92/ 100] [Batch    4/   9] Loss:  1.40e-03\n",
            "[Epoch   92/ 100] [Batch    5/   9] Loss:  1.09e-03\n",
            "[Epoch   92/ 100] [Batch    6/   9] Loss:  2.10e-03\n",
            "[Epoch   92/ 100] [Batch    7/   9] Loss:  1.54e-03\n",
            "[Epoch   92/ 100] [Batch    8/   9] Loss:  1.40e-03\n",
            "[Epoch   92/ 100] [Batch    9/   9] Loss:  2.04e-03\n",
            "[Epoch   93/ 100] [Batch    1/   9] Loss:  1.47e-03\n",
            "[Epoch   93/ 100] [Batch    2/   9] Loss:  1.80e-03\n",
            "[Epoch   93/ 100] [Batch    3/   9] Loss:  1.49e-03\n",
            "[Epoch   93/ 100] [Batch    4/   9] Loss:  1.51e-03\n",
            "[Epoch   93/ 100] [Batch    5/   9] Loss:  1.56e-03\n",
            "[Epoch   93/ 100] [Batch    6/   9] Loss:  1.65e-03\n",
            "[Epoch   93/ 100] [Batch    7/   9] Loss:  1.48e-03\n",
            "[Epoch   93/ 100] [Batch    8/   9] Loss:  1.56e-03\n",
            "[Epoch   93/ 100] [Batch    9/   9] Loss:  1.65e-03\n",
            "[Epoch   94/ 100] [Batch    1/   9] Loss:  1.41e-03\n",
            "[Epoch   94/ 100] [Batch    2/   9] Loss:  1.51e-03\n",
            "[Epoch   94/ 100] [Batch    3/   9] Loss:  1.41e-03\n",
            "[Epoch   94/ 100] [Batch    4/   9] Loss:  1.35e-03\n",
            "[Epoch   94/ 100] [Batch    5/   9] Loss:  1.53e-03\n",
            "[Epoch   94/ 100] [Batch    6/   9] Loss:  1.62e-03\n",
            "[Epoch   94/ 100] [Batch    7/   9] Loss:  1.75e-03\n",
            "[Epoch   94/ 100] [Batch    8/   9] Loss:  1.90e-03\n",
            "[Epoch   94/ 100] [Batch    9/   9] Loss:  1.36e-03\n",
            "[Epoch   95/ 100] [Batch    1/   9] Loss:  1.58e-03\n",
            "[Epoch   95/ 100] [Batch    2/   9] Loss:  1.26e-03\n",
            "[Epoch   95/ 100] [Batch    3/   9] Loss:  1.59e-03\n",
            "[Epoch   95/ 100] [Batch    4/   9] Loss:  1.86e-03\n",
            "[Epoch   95/ 100] [Batch    5/   9] Loss:  1.60e-03\n",
            "[Epoch   95/ 100] [Batch    6/   9] Loss:  1.57e-03\n",
            "[Epoch   95/ 100] [Batch    7/   9] Loss:  1.61e-03\n",
            "[Epoch   95/ 100] [Batch    8/   9] Loss:  1.77e-03\n",
            "[Epoch   95/ 100] [Batch    9/   9] Loss:  1.23e-03\n",
            "[Epoch   96/ 100] [Batch    1/   9] Loss:  1.69e-03\n",
            "[Epoch   96/ 100] [Batch    2/   9] Loss:  1.40e-03\n",
            "[Epoch   96/ 100] [Batch    3/   9] Loss:  1.69e-03\n",
            "[Epoch   96/ 100] [Batch    4/   9] Loss:  1.91e-03\n",
            "[Epoch   96/ 100] [Batch    5/   9] Loss:  1.45e-03\n",
            "[Epoch   96/ 100] [Batch    6/   9] Loss:  1.61e-03\n",
            "[Epoch   96/ 100] [Batch    7/   9] Loss:  1.25e-03\n",
            "[Epoch   96/ 100] [Batch    8/   9] Loss:  1.45e-03\n",
            "[Epoch   96/ 100] [Batch    9/   9] Loss:  1.67e-03\n",
            "[Epoch   97/ 100] [Batch    1/   9] Loss:  1.93e-03\n",
            "[Epoch   97/ 100] [Batch    2/   9] Loss:  1.41e-03\n",
            "[Epoch   97/ 100] [Batch    3/   9] Loss:  1.65e-03\n",
            "[Epoch   97/ 100] [Batch    4/   9] Loss:  1.73e-03\n",
            "[Epoch   97/ 100] [Batch    5/   9] Loss:  1.59e-03\n",
            "[Epoch   97/ 100] [Batch    6/   9] Loss:  1.38e-03\n",
            "[Epoch   97/ 100] [Batch    7/   9] Loss:  1.58e-03\n",
            "[Epoch   97/ 100] [Batch    8/   9] Loss:  1.54e-03\n",
            "[Epoch   97/ 100] [Batch    9/   9] Loss:  1.63e-03\n",
            "[Epoch   98/ 100] [Batch    1/   9] Loss:  1.46e-03\n",
            "[Epoch   98/ 100] [Batch    2/   9] Loss:  1.77e-03\n",
            "[Epoch   98/ 100] [Batch    3/   9] Loss:  1.38e-03\n",
            "[Epoch   98/ 100] [Batch    4/   9] Loss:  1.60e-03\n",
            "[Epoch   98/ 100] [Batch    5/   9] Loss:  1.75e-03\n",
            "[Epoch   98/ 100] [Batch    6/   9] Loss:  1.24e-03\n",
            "[Epoch   98/ 100] [Batch    7/   9] Loss:  1.70e-03\n",
            "[Epoch   98/ 100] [Batch    8/   9] Loss:  1.81e-03\n",
            "[Epoch   98/ 100] [Batch    9/   9] Loss:  2.28e-03\n",
            "[Epoch   99/ 100] [Batch    1/   9] Loss:  1.71e-03\n",
            "[Epoch   99/ 100] [Batch    2/   9] Loss:  1.30e-03\n",
            "[Epoch   99/ 100] [Batch    3/   9] Loss:  1.45e-03\n",
            "[Epoch   99/ 100] [Batch    4/   9] Loss:  1.53e-03\n",
            "[Epoch   99/ 100] [Batch    5/   9] Loss:  1.96e-03\n",
            "[Epoch   99/ 100] [Batch    6/   9] Loss:  1.47e-03\n",
            "[Epoch   99/ 100] [Batch    7/   9] Loss:  1.88e-03\n",
            "[Epoch   99/ 100] [Batch    8/   9] Loss:  1.71e-03\n",
            "[Epoch   99/ 100] [Batch    9/   9] Loss:  1.35e-03\n",
            "[Epoch  100/ 100] [Batch    1/   9] Loss:  1.42e-03\n",
            "[Epoch  100/ 100] [Batch    2/   9] Loss:  1.54e-03\n",
            "[Epoch  100/ 100] [Batch    3/   9] Loss:  1.40e-03\n",
            "[Epoch  100/ 100] [Batch    4/   9] Loss:  1.52e-03\n",
            "[Epoch  100/ 100] [Batch    5/   9] Loss:  1.54e-03\n",
            "[Epoch  100/ 100] [Batch    6/   9] Loss:  1.44e-03\n",
            "[Epoch  100/ 100] [Batch    7/   9] Loss:  1.96e-03\n",
            "[Epoch  100/ 100] [Batch    8/   9] Loss:  2.00e-03\n",
            "[Epoch  100/ 100] [Batch    9/   9] Loss:  1.06e-03\n"
          ]
        },
        {
          "output_type": "execute_result",
          "data": {
            "text/plain": [
              "LinearModel(\n",
              "  (linear): Linear(in_features=1, out_features=1, bias=True)\n",
              ")"
            ]
          },
          "metadata": {},
          "execution_count": 35
        }
      ],
      "source": [
        "train_hist = {}\n",
        "train_hist['loss'] = []\n",
        "\n",
        "if input_dim == output_dim == 1:\n",
        "    train_hist['weight'] = []\n",
        "    train_hist['bias'] = []\n",
        "\n",
        "# Initialize training\n",
        "model.reset()\n",
        "model.train()\n",
        "\n",
        "for epoch in range(n_epochs):\n",
        "    for idx, batch in enumerate(train_loader):\n",
        "        optimizer.zero_grad()\n",
        "        loss = loss_fun(model.forward(batch[0]),  batch[1])\n",
        "        loss.backward()\n",
        "        optimizer.step()\n",
        "\n",
        "        train_hist['loss'].append(loss.item())\n",
        "        if input_dim == output_dim == 1:\n",
        "            train_hist['weight'].append(model.linear.weight.item())\n",
        "            train_hist['bias'].append(model.linear.bias.item())\n",
        "        \n",
        "        print('[Epoch %4d/%4d] [Batch %4d/%4d] Loss: % 2.2e' % (epoch + 1, n_epochs, \n",
        "                                                                idx + 1, len(train_loader), \n",
        "                                                                loss.item()))\n",
        "        \n",
        "model.eval()"
      ]
    },
    {
      "cell_type": "code",
      "execution_count": 36,
      "metadata": {
        "id": "t4MWOzJRslmA"
      },
      "outputs": [],
      "source": [
        "if input_dim == output_dim == 1:\n",
        "    n_test = 500\n",
        "    X_test = np.random.rand(n_test, input_dim)\n",
        "    y_pred = []\n",
        "\n",
        "    state_dict = model.state_dict()\n",
        "\n",
        "    for idx in range(len(train_hist['weight'])):\n",
        "        state_dict['linear.weight'] = torch.tensor([[train_hist['weight'][idx]]])\n",
        "        state_dict['linear.bias'] = torch.tensor([train_hist['bias'][idx]])\n",
        "        model.load_state_dict(state_dict)\n",
        "\n",
        "        y_pred.append(model.forward(torch.tensor(X_test.astype('f'))).detach().numpy())    "
      ]
    },
    {
      "cell_type": "code",
      "execution_count": 37,
      "metadata": {
        "id": "iSbfl8q1slmA",
        "outputId": "b8ffaebb-789d-4302-9136-b0805fe6b5fd",
        "colab": {
          "base_uri": "https://localhost:8080/",
          "height": 356
        }
      },
      "outputs": [
        {
          "output_type": "display_data",
          "data": {
            "text/plain": [
              "<Figure size 1080x360 with 3 Axes>"
            ],
            "image/png": "[encoded data removed]"
          },
          "metadata": {
            "needs_background": "light"
          }
        }
      ],
      "source": [
        "if input_dim == output_dim == 1:\n",
        "    fig = plt.figure(figsize=(15, 5))\n",
        "    fig.clf()\n",
        "    \n",
        "    ax = fig.add_subplot(1, 3, 1)\n",
        "    levels = np.logspace(np.log(np.min(loss_values)), np.log(np.max(loss_values)), 20)\n",
        "    ax.contourf(ww, bb, loss_values, levels=levels, norm=colors.LogNorm())\n",
        "    ax.plot(train_hist['weight'], train_hist['bias'], '.-b')\n",
        "    ax.plot(A[0], b, 'r*', markersize=10)\n",
        "    ax.set_xlabel('weight')\n",
        "    ax.set_ylabel('bias')\n",
        "    #ax.legend(['optim', '(A, b)'])\n",
        "    ax.grid(True)\n",
        "    ax.set_xlim(-2, 2) \n",
        "    ax.set_ylim(-2, 2) \n",
        "    \n",
        "    ax = fig.add_subplot(1, 3, 2)\n",
        "    ax.loglog(np.abs(train_hist['loss']))\n",
        "    ax.set_xlabel('Iter')\n",
        "    ax.set_ylabel('Loss')\n",
        "    ax.grid(True)\n",
        "    \n",
        "    ax = fig.add_subplot(1, 3, 3)\n",
        "    ax.plot(X_train, y_train, '.')\n",
        "    a=ax.plot(X_test, y_pred[0], '-', alpha=0.1)\n",
        "    for y in y_pred[1:]:\n",
        "        ax.plot(X_test, y, '-', alpha=0.1, color=a[0].get_color())\n",
        "    ax.plot(X_test, y_pred[-1], 'k')\n",
        "    ax.grid(True)   \n",
        "\n",
        "    fig.tight_layout()\n",
        "\n",
        "else:\n",
        "    fig = plt.figure()\n",
        "    fig.clf()\n",
        "    ax = fig.gca()\n",
        "    ax.loglog(np.abs(train_hist['loss']))\n",
        "    ax.set_xlabel('Iter')\n",
        "    ax.set_ylabel('Loss')\n",
        "    ax.grid(True)"
      ]
    },
    {
      "cell_type": "code",
      "execution_count": 37,
      "metadata": {
        "id": "Zv0jwVUZslmB"
      },
      "outputs": [],
      "source": []
    }
  ],
  "metadata": {
    "kernelspec": {
      "display_name": "Python 3",
      "language": "python",
      "name": "python3"
    },
    "language_info": {
      "codemirror_mode": {
        "name": "ipython",
        "version": 3
      },
      "file_extension": ".py",
      "mimetype": "text/x-python",
      "name": "python",
      "nbconvert_exporter": "python",
      "pygments_lexer": "ipython3",
      "version": "3.9.12"
    },
    "colab": {
      "provenance": []
    }
  },
  "nbformat": 4,
  "nbformat_minor": 0
}